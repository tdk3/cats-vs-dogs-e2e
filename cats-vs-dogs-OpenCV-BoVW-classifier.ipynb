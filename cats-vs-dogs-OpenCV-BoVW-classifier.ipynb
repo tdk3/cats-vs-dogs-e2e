{
 "cells": [
  {
   "cell_type": "markdown",
   "metadata": {},
   "source": [
    "## Overview\n",
    "This notebook builds up a linear classifier of the cats & dogs image dataset from Kaggle. The images are first decomposed into keypoints via OpenCV's SIFT algorithm. The data from each keypoint is used to build a model (bag of visual words) that describes each image. The bag of visual words is then run through a linear classifier to determine whether each image is a cat or a dog. The model acheives roughly 73% accuracy when training on 5000 images and testing on 1000 images."
   ]
  },
  {
   "cell_type": "code",
   "execution_count": 1,
   "metadata": {},
   "outputs": [],
   "source": [
    "import boto3\n",
    "import cv2\n",
    "import io\n",
    "from IPython.display import clear_output\n",
    "from IPython.display import display\n",
    "import matplotlib.pyplot as plt\n",
    "import mxnet as mx\n",
    "import numpy as np\n",
    "import os\n",
    "import pickle\n",
    "import re\n",
    "import sagemaker.amazon.common as smac\n",
    "from sagemaker.amazon.amazon_estimator import get_image_uri\n",
    "from sagemaker import get_execution_role\n",
    "from scipy.spatial.distance import cdist\n",
    "import sys\n",
    "from time import gmtime, strftime\n",
    "import zipfile"
   ]
  },
  {
   "cell_type": "markdown",
   "metadata": {},
   "source": [
    "## Open image file"
   ]
  },
  {
   "cell_type": "code",
   "execution_count": 41,
   "metadata": {},
   "outputs": [],
   "source": [
    "archive = zipfile.ZipFile('train.zip')"
   ]
  },
  {
   "cell_type": "code",
   "execution_count": 42,
   "metadata": {},
   "outputs": [],
   "source": [
    "train_files = [x for x in archive.namelist() if re.match('train.*jpg', x) is not None]"
   ]
  },
  {
   "cell_type": "code",
   "execution_count": 36,
   "metadata": {},
   "outputs": [],
   "source": [
    "img_data = archive.read('train/dog.9455.jpg')"
   ]
  },
  {
   "cell_type": "code",
   "execution_count": 24,
   "metadata": {},
   "outputs": [],
   "source": [
    "img = cv2.imdecode(np.frombuffer(img_data, np.uint8), 1)"
   ]
  },
  {
   "cell_type": "code",
   "execution_count": 25,
   "metadata": {},
   "outputs": [],
   "source": [
    "img = cv2.cvtColor(img, cv2.COLOR_BGR2GRAY)"
   ]
  },
  {
   "cell_type": "markdown",
   "metadata": {},
   "source": [
    "## Helper Functions"
   ]
  },
  {
   "cell_type": "code",
   "execution_count": 43,
   "metadata": {},
   "outputs": [],
   "source": [
    "def generate_sift(gray_img):\n",
    "    sift = cv2.xfeatures2d.SIFT_create()\n",
    "    kp, desc = sift.detectAndCompute(gray_img, None)\n",
    "    return kp, desc"
   ]
  },
  {
   "cell_type": "code",
   "execution_count": 44,
   "metadata": {},
   "outputs": [],
   "source": [
    "def extract_desc(file):\n",
    "    buf = archive.read(file)\n",
    "    img = cv2.imdecode(np.frombuffer(buf, np.uint8), 1)\n",
    "    img = cv2.cvtColor(img, cv2.COLOR_BGR2GRAY)\n",
    "    \n",
    "    kp, desc = generate_sift(img)\n",
    "    \n",
    "    num_desc = desc.shape[0]\n",
    "    images = np.full((num_desc,1), file)\n",
    "    \n",
    "    return images, kp, desc"
   ]
  },
  {
   "cell_type": "code",
   "execution_count": 6,
   "metadata": {},
   "outputs": [],
   "source": [
    "def run_extract(file_list):\n",
    "    \n",
    "    num_of_files = len(file_list)\n",
    "    i = 1\n",
    "    desc_total = None\n",
    "    kp_total = None\n",
    "    img_total = None\n",
    "    \n",
    "    for file in file_list:\n",
    "        \n",
    "        # Extract all SIFT keypoints and descriptors\n",
    "        images, kp, desc = extract_desc(file)\n",
    "        \n",
    "        if i == 1:\n",
    "            kp_total = kp\n",
    "            desc_total = desc\n",
    "            img_total = images\n",
    "            clear_output(wait=True)\n",
    "            print(i, \"/\", num_of_files, \"completed\")\n",
    "            i = i + 1\n",
    "            continue\n",
    "            \n",
    "        else:\n",
    "            kp_total = np.append(kp_total, kp)\n",
    "            desc_total = np.vstack((desc_total, desc))\n",
    "            img_total = np.vstack((img_total, images))\n",
    "            clear_output(wait=True)\n",
    "            print(i, \"/\", num_of_files, \"completed\")\n",
    "            i = i + 1\n",
    "    \n",
    "    \n",
    "    #return img_total, kp_total, desc_total\n",
    "    return desc_total"
   ]
  },
  {
   "cell_type": "code",
   "execution_count": 45,
   "metadata": {},
   "outputs": [],
   "source": [
    "def extract_descriptors(file):\n",
    "    # Read in file\n",
    "    buf = archive.read(file)\n",
    "    img = cv2.imdecode(np.frombuffer(buf, np.uint8), 1)\n",
    "    \n",
    "    # Convert to greyscale\n",
    "    img = cv2.cvtColor(img, cv2.COLOR_BGR2GRAY)\n",
    "    \n",
    "    # Extract keypoints and SIFT descriptors\n",
    "    kp, desc = generate_sift(img)\n",
    "    \n",
    "    # Prep keypoints\n",
    "    points = []\n",
    "    for k, d in zip(kp, desc):\n",
    "        point = (k.angle, k.class_id, k.convert, k.octave, k.overlap, k.pt, k.response, k.size, d)\n",
    "        points.append(point)\n",
    "    \n",
    "    # Save to dictionary object\n",
    "    output = {}\n",
    "    output['filename'] = file\n",
    "    output['kpd'] = points\n",
    "    \n",
    "    return output"
   ]
  },
  {
   "cell_type": "code",
   "execution_count": 27,
   "metadata": {},
   "outputs": [
    {
     "data": {
      "text/plain": [
       "431"
      ]
     },
     "execution_count": 27,
     "metadata": {},
     "output_type": "execute_result"
    }
   ],
   "source": [
    "points = []\n",
    "for k, d in zip(kp, desc):\n",
    "    point = (k.angle, k.class_id, k.convert, k.octave, k.overlap, k.pt, k.response, k.size, desc)\n",
    "    points.append(point)"
   ]
  },
  {
   "cell_type": "code",
   "execution_count": 42,
   "metadata": {},
   "outputs": [],
   "source": [
    "if not os.path.exists('train-descriptors'):\n",
    "    os.makedirs('train-descriptors')"
   ]
  },
  {
   "cell_type": "code",
   "execution_count": 43,
   "metadata": {},
   "outputs": [],
   "source": [
    "output = extract_descriptors(f)\n",
    "save_name = output['filename'].split('/')[1]\n",
    "file = open('train-descriptors/' + save_name + '.P', 'wb')\n",
    "pickle.dump(output, file)"
   ]
  },
  {
   "cell_type": "markdown",
   "metadata": {},
   "source": [
    "## Extract Keypoint Descriptors from images"
   ]
  },
  {
   "cell_type": "code",
   "execution_count": null,
   "metadata": {},
   "outputs": [],
   "source": [
    "num_of_files = len(train_files)\n",
    "i = 1\n",
    "for f in train_files:\n",
    "    output = extract_descriptors(f)\n",
    "    save_name = output['filename'].split('/')[1]\n",
    "    file = open('train-descriptors/' + save_name + '.P', 'wb')\n",
    "    pickle.dump(output, file)\n",
    "    clear_output(wait=True)\n",
    "    print(i, \"/\", num_of_files, \"completed\")\n",
    "    i += 1"
   ]
  },
  {
   "cell_type": "code",
   "execution_count": 15,
   "metadata": {},
   "outputs": [],
   "source": [
    "ft = os.listdir('train-descriptors/')[:5000]\n",
    "dogs = [f for f in ft if f.find('dog') != -1]\n",
    "cats = [f for f in ft if f.find('cat') != -1]\n",
    "\n",
    "prefix = 'train-descriptors/'"
   ]
  },
  {
   "cell_type": "markdown",
   "metadata": {},
   "source": [
    "## Append all descriptors into one file"
   ]
  },
  {
   "cell_type": "code",
   "execution_count": null,
   "metadata": {},
   "outputs": [],
   "source": [
    "descriptors = None\n",
    "i = 0\n",
    "for file in dogs:\n",
    "    i += 1   \n",
    "    f = 'train-descriptors/' + file\n",
    "    with open(f, 'rb') as pf:\n",
    "        a = pickle.load(pf)\n",
    "        desc = [x[8] for x in a['kpd']]\n",
    "        if descriptors is None:\n",
    "            descriptors = desc\n",
    "        else: descriptors = np.vstack((descriptors, desc))\n",
    "            \n",
    "    clear_output(wait=True)\n",
    "    print(i)"
   ]
  },
  {
   "cell_type": "code",
   "execution_count": 60,
   "metadata": {},
   "outputs": [
    {
     "name": "stdout",
     "output_type": "stream",
     "text": [
      "358960\n"
     ]
    }
   ],
   "source": [
    "print(sys.getsizeof(descriptors))"
   ]
  },
  {
   "cell_type": "code",
   "execution_count": 126,
   "metadata": {},
   "outputs": [],
   "source": [
    "file = open('train-descriptors.P', 'wb')\n",
    "pickle.dump(descriptors, file)"
   ]
  },
  {
   "cell_type": "code",
   "execution_count": 134,
   "metadata": {},
   "outputs": [],
   "source": [
    "file.close()"
   ]
  },
  {
   "cell_type": "markdown",
   "metadata": {},
   "source": [
    "Descriptors for 2500 dog images, appended into one file is roughly 1.1 GB in size. This was uploaded via web browser to S3 bucket."
   ]
  },
  {
   "cell_type": "markdown",
   "metadata": {},
   "source": [
    "## Get data from S3 bucket"
   ]
  },
  {
   "cell_type": "code",
   "execution_count": 140,
   "metadata": {},
   "outputs": [],
   "source": [
    "def write_s3_data(bucket, prefix, channel, X):\n",
    "    buf = io.BytesIO()\n",
    "    smac.write_numpy_to_dense_tensor(buf, X.astype('float32'))\n",
    "    buf.seek(0)\n",
    "    boto3.Session().resource('s3').Bucket(bucket).Object(os.path.join(prefix, channel + '.data')).upload_fileobj(buf)"
   ]
  },
  {
   "cell_type": "code",
   "execution_count": 2,
   "metadata": {},
   "outputs": [],
   "source": [
    "# S3 bucket\n",
    "bucket = 'catsvsdogs-ml'\n",
    "prefix = 'sagemaker/DEMO-kmeans'"
   ]
  },
  {
   "cell_type": "code",
   "execution_count": 146,
   "metadata": {},
   "outputs": [],
   "source": [
    "write_s3_data(bucket, prefix, 'train', descriptors)"
   ]
  },
  {
   "cell_type": "markdown",
   "metadata": {},
   "source": [
    "## AWS Sagemaker Experiments to choose K"
   ]
  },
  {
   "cell_type": "code",
   "execution_count": 191,
   "metadata": {},
   "outputs": [],
   "source": [
    "role = 'arn:aws:iam::536197384257:role/service-role/AmazonSageMaker-ExecutionRole-20190129T171919'"
   ]
  },
  {
   "cell_type": "code",
   "execution_count": 195,
   "metadata": {},
   "outputs": [],
   "source": [
    "output_time = strftime(\"%Y-%m-%d-%H-%M-%S\", gmtime())\n",
    "output_folder = 'kmeans-lowlevel-' + output_time\n",
    "K = range(50, 550, 50) # change the range to be used for k\n",
    "#K = [500]\n",
    "INSTANCE_COUNT = 1\n",
    "run_parallel_jobs = False #make this false to run jobs one at a time, especially if you do not want \n",
    "#create too many EC2 instances at once to avoid hitting into limits.\n",
    "job_names = []"
   ]
  },
  {
   "cell_type": "code",
   "execution_count": 196,
   "metadata": {},
   "outputs": [],
   "source": [
    "image = get_image_uri(boto3.Session().region_name, 'kmeans')"
   ]
  },
  {
   "cell_type": "code",
   "execution_count": 197,
   "metadata": {},
   "outputs": [
    {
     "name": "stdout",
     "output_type": "stream",
     "text": [
      "starting train job:50\n",
      "training artifacts will be uploaded to: s3://catsvsdogs-ml/kmeans_example/output/kmeans-lowlevel-2019-03-18-07-47-39\n",
      "InProgress\n",
      "Training job ended with status: Completed\n",
      "starting train job:100\n",
      "training artifacts will be uploaded to: s3://catsvsdogs-ml/kmeans_example/output/kmeans-lowlevel-2019-03-18-07-47-39\n",
      "InProgress\n",
      "Training job ended with status: Completed\n",
      "starting train job:150\n",
      "training artifacts will be uploaded to: s3://catsvsdogs-ml/kmeans_example/output/kmeans-lowlevel-2019-03-18-07-47-39\n",
      "InProgress\n",
      "Training job ended with status: Completed\n",
      "starting train job:200\n",
      "training artifacts will be uploaded to: s3://catsvsdogs-ml/kmeans_example/output/kmeans-lowlevel-2019-03-18-07-47-39\n",
      "InProgress\n",
      "Training job ended with status: Completed\n",
      "starting train job:250\n",
      "training artifacts will be uploaded to: s3://catsvsdogs-ml/kmeans_example/output/kmeans-lowlevel-2019-03-18-07-47-39\n",
      "InProgress\n",
      "Training job ended with status: Completed\n",
      "starting train job:300\n",
      "training artifacts will be uploaded to: s3://catsvsdogs-ml/kmeans_example/output/kmeans-lowlevel-2019-03-18-07-47-39\n",
      "InProgress\n",
      "Training job ended with status: Completed\n",
      "starting train job:350\n",
      "training artifacts will be uploaded to: s3://catsvsdogs-ml/kmeans_example/output/kmeans-lowlevel-2019-03-18-07-47-39\n",
      "InProgress\n",
      "Training job ended with status: Completed\n",
      "starting train job:400\n",
      "training artifacts will be uploaded to: s3://catsvsdogs-ml/kmeans_example/output/kmeans-lowlevel-2019-03-18-07-47-39\n",
      "InProgress\n",
      "Training job ended with status: Completed\n",
      "starting train job:450\n",
      "training artifacts will be uploaded to: s3://catsvsdogs-ml/kmeans_example/output/kmeans-lowlevel-2019-03-18-07-47-39\n",
      "InProgress\n",
      "Training job ended with status: Completed\n",
      "starting train job:500\n",
      "training artifacts will be uploaded to: s3://catsvsdogs-ml/kmeans_example/output/kmeans-lowlevel-2019-03-18-07-47-39\n",
      "InProgress\n",
      "Training job ended with status: Completed\n"
     ]
    }
   ],
   "source": [
    "# launching jobs for all k\n",
    "for k in K:\n",
    "    print('starting train job:' + str(k))\n",
    "    output_location = 's3://{}/kmeans_example/output/'.format(bucket) + output_folder\n",
    "    print('training artifacts will be uploaded to: {}'.format(output_location))\n",
    "    job_name = output_folder + str(k)\n",
    "\n",
    "    create_training_params = \\\n",
    "    {\n",
    "        \"AlgorithmSpecification\": {\n",
    "            \"TrainingImage\": image,\n",
    "            \"TrainingInputMode\": \"File\"\n",
    "        },\n",
    "        \"RoleArn\": role,\n",
    "        \"OutputDataConfig\": {\n",
    "            \"S3OutputPath\": output_location\n",
    "        },\n",
    "        \"ResourceConfig\": {\n",
    "            \"InstanceCount\": INSTANCE_COUNT,\n",
    "            \"InstanceType\": \"ml.c4.8xlarge\",\n",
    "            \"VolumeSizeInGB\": 50\n",
    "        },\n",
    "        \"TrainingJobName\": job_name,\n",
    "        \"HyperParameters\": {\n",
    "            \"k\": str(k),\n",
    "            \"feature_dim\": \"128\",\n",
    "            \"mini_batch_size\": \"1000\"\n",
    "        },\n",
    "        \"StoppingCondition\": {\n",
    "            \"MaxRuntimeInSeconds\": 60 * 60\n",
    "        },\n",
    "            \"InputDataConfig\": [\n",
    "            {\n",
    "                \"ChannelName\": \"train\",\n",
    "                \"DataSource\": {\n",
    "                    \"S3DataSource\": {\n",
    "                        \"S3DataType\": \"S3Prefix\",\n",
    "                        \"S3Uri\": \"s3://{}/{}/train.data\".format(bucket, prefix),\n",
    "                        \"S3DataDistributionType\": \"FullyReplicated\"\n",
    "                    }\n",
    "                },\n",
    "\n",
    "                \"CompressionType\": \"None\",\n",
    "                \"RecordWrapperType\": \"None\"\n",
    "            }\n",
    "        ]\n",
    "    }\n",
    "\n",
    "    sagemaker = boto3.client('sagemaker')\n",
    "\n",
    "    sagemaker.create_training_job(**create_training_params)\n",
    "\n",
    "    status = sagemaker.describe_training_job(TrainingJobName=job_name)['TrainingJobStatus']\n",
    "    print(status)\n",
    "    if not run_parallel_jobs:\n",
    "        try:\n",
    "            sagemaker.get_waiter('training_job_completed_or_stopped').wait(TrainingJobName=job_name)\n",
    "        finally:\n",
    "            status = sagemaker.describe_training_job(TrainingJobName=job_name)['TrainingJobStatus']\n",
    "            print(\"Training job ended with status: \" + status)\n",
    "            if status == 'Failed':\n",
    "                message = sagemaker.describe_training_job(TrainingJobName=job_name)['FailureReason']\n",
    "                print('Training failed with the following error: {}'.format(message))\n",
    "                raise Exception('Training job failed')\n",
    "    \n",
    "    job_names.append(job_name)"
   ]
  },
  {
   "cell_type": "code",
   "execution_count": 198,
   "metadata": {},
   "outputs": [],
   "source": [
    "# How to check training job status\n",
    "response = sagemaker.describe_training_job(\n",
    "    TrainingJobName='kmeans-lowlevel-2019-03-18-06-32-52500'\n",
    ")\n",
    "#response"
   ]
  },
  {
   "cell_type": "markdown",
   "metadata": {},
   "source": [
    "## Inspecting Distortion"
   ]
  },
  {
   "cell_type": "code",
   "execution_count": 3,
   "metadata": {},
   "outputs": [
    {
     "data": {
      "text/plain": [
       "'catsvsdogs-ml'"
      ]
     },
     "execution_count": 3,
     "metadata": {},
     "output_type": "execute_result"
    }
   ],
   "source": [
    "bucket"
   ]
  },
  {
   "cell_type": "code",
   "execution_count": 211,
   "metadata": {},
   "outputs": [
    {
     "name": "stdout",
     "output_type": "stream",
     "text": [
      "Model for k=50 (kmeans_example/output/kmeans-lowlevel-2019-03-18-07-47-39/kmeans-lowlevel-2019-03-18-07-47-3950/output/model.tar.gz)\n",
      "x model_algo-1\n",
      "x state_f13371e0-e162-4257-adb8-6321bc88114a\n",
      "Model for k=100 (kmeans_example/output/kmeans-lowlevel-2019-03-18-07-47-39/kmeans-lowlevel-2019-03-18-07-47-39100/output/model.tar.gz)\n",
      "x state_932e0871-64fa-4f53-964e-2ce777498451\n",
      "x model_algo-1\n",
      "Model for k=150 (kmeans_example/output/kmeans-lowlevel-2019-03-18-07-47-39/kmeans-lowlevel-2019-03-18-07-47-39150/output/model.tar.gz)\n",
      "x model_algo-1\n",
      "x state_795a0e09-e2b5-4209-ac0c-d2bf43c62eb4\n",
      "Model for k=200 (kmeans_example/output/kmeans-lowlevel-2019-03-18-07-47-39/kmeans-lowlevel-2019-03-18-07-47-39200/output/model.tar.gz)\n",
      "x model_algo-1\n",
      "x state_3704a49e-1047-447b-80a1-c777ed53a2f6\n",
      "Model for k=250 (kmeans_example/output/kmeans-lowlevel-2019-03-18-07-47-39/kmeans-lowlevel-2019-03-18-07-47-39250/output/model.tar.gz)\n",
      "x model_algo-1\n",
      "x state_b3079804-e29d-4958-936e-f75b49bdbcc5\n",
      "Model for k=300 (kmeans_example/output/kmeans-lowlevel-2019-03-18-07-47-39/kmeans-lowlevel-2019-03-18-07-47-39300/output/model.tar.gz)\n",
      "x state_c5726545-cf1b-4569-92be-c381c0b13986\n",
      "x model_algo-1\n",
      "Model for k=350 (kmeans_example/output/kmeans-lowlevel-2019-03-18-07-47-39/kmeans-lowlevel-2019-03-18-07-47-39350/output/model.tar.gz)\n",
      "x model_algo-1\n",
      "x state_9194ac54-b6b6-4880-8d49-5c546157fcea\n",
      "Model for k=400 (kmeans_example/output/kmeans-lowlevel-2019-03-18-07-47-39/kmeans-lowlevel-2019-03-18-07-47-39400/output/model.tar.gz)\n",
      "x state_3cdc6008-628f-4d43-9896-2a898f2cacdf\n",
      "x model_algo-1\n",
      "Model for k=450 (kmeans_example/output/kmeans-lowlevel-2019-03-18-07-47-39/kmeans-lowlevel-2019-03-18-07-47-39450/output/model.tar.gz)\n",
      "x state_24592ebd-111a-4568-ba09-d710917f93eb\n",
      "x model_algo-1\n",
      "Model for k=500 (kmeans_example/output/kmeans-lowlevel-2019-03-18-07-47-39/kmeans-lowlevel-2019-03-18-07-47-39500/output/model.tar.gz)\n",
      "x model_algo-1\n",
      "x state_7ce55d39-42e3-4dc5-a503-2dff0a5e28c0\n"
     ]
    },
    {
     "data": {
      "image/png": "[encoded data removed]",
      "text/plain": [
       "<Figure size 432x288 with 1 Axes>"
      ]
     },
     "metadata": {
      "needs_background": "light"
     },
     "output_type": "display_data"
    }
   ],
   "source": [
    "plt.plot()\n",
    "colors = ['b', 'g', 'r']\n",
    "markers = ['o', 'v', 's']\n",
    "models = {}\n",
    "distortions = []\n",
    "\n",
    "for k in K:\n",
    "    s3_client = boto3.client('s3')\n",
    "    key = 'kmeans_example/output/' + output_folder +'/' + output_folder + str(k) + '/output/model.tar.gz'\n",
    "    s3_client.download_file(bucket, key, 'model.tar.gz')\n",
    "    print(\"Model for k={} ({})\".format(k, key))\n",
    "    !tar -xvf model.tar.gz \n",
    "    kmeans_model = mx.ndarray.load('model_algo-1')\n",
    "    kmeans_numpy = kmeans_model[0].asnumpy()\n",
    "    #print(kmeans_numpy.shape)\n",
    "    #break\n",
    "    distortions.append(sum(np.min(cdist(descriptors, kmeans_numpy, 'euclidean'), axis=1)) / descriptors.shape[0])\n",
    "    models[k] = kmeans_numpy\n",
    "    \n",
    "# Plot the elbow\n",
    "plt.plot(K, distortions, 'bx-')\n",
    "plt.xlabel('k')\n",
    "plt.ylabel('distortion')\n",
    "plt.title('Elbow graph')\n",
    "plt.show()"
   ]
  },
  {
   "cell_type": "markdown",
   "metadata": {},
   "source": [
    "Reading up on the elbow method, anywhere between 200-300 might be a good start for choosing K."
   ]
  },
  {
   "cell_type": "markdown",
   "metadata": {},
   "source": [
    "## Use model with K  = 300"
   ]
  },
  {
   "cell_type": "code",
   "execution_count": 4,
   "metadata": {},
   "outputs": [],
   "source": [
    "model_300_path = 'kmeans_example/output/kmeans-lowlevel-2019-03-18-07-47-39/' + \\\n",
    "    'kmeans-lowlevel-2019-03-18-07-47-39300/output/model.tar.gz'"
   ]
  },
  {
   "cell_type": "code",
   "execution_count": 5,
   "metadata": {},
   "outputs": [
    {
     "name": "stdout",
     "output_type": "stream",
     "text": [
      "x state_c5726545-cf1b-4569-92be-c381c0b13986\r\n",
      "x model_algo-1\r\n"
     ]
    }
   ],
   "source": [
    "s3_client = boto3.client('s3')\n",
    "s3_client.download_file(bucket, model_300_path, 'model.tar.gz')\n",
    "!tar -xvf model.tar.gz\n",
    "model_300 = mx.ndarray.load('model_algo-1')"
   ]
  },
  {
   "cell_type": "code",
   "execution_count": 6,
   "metadata": {},
   "outputs": [
    {
     "name": "stdout",
     "output_type": "stream",
     "text": [
      "(300, 128)\n"
     ]
    }
   ],
   "source": [
    "model_300 = model_300[0].asnumpy()\n",
    "print(model_300.shape)"
   ]
  },
  {
   "cell_type": "code",
   "execution_count": 7,
   "metadata": {},
   "outputs": [],
   "source": [
    "def desc_to_visual_words(labels, K=1000):\n",
    "    label_counts = np.zeros(1000)\n",
    "    for k in range(1,K-1):\n",
    "        count = np.where(labels == k)[0].shape[0]\n",
    "        label_counts[k-1] = count\n",
    "    return label_counts"
   ]
  },
  {
   "cell_type": "markdown",
   "metadata": {},
   "source": [
    "### Convert dog image descriptors to visual dictionary"
   ]
  },
  {
   "cell_type": "code",
   "execution_count": 16,
   "metadata": {},
   "outputs": [
    {
     "name": "stdout",
     "output_type": "stream",
     "text": [
      "2492\n"
     ]
    }
   ],
   "source": [
    "# Load pre-computed descriptors and translate to dictionary\n",
    "prefix = 'train-descriptors/'\n",
    "i = 0\n",
    "x_trans = None\n",
    "for file in dogs:\n",
    "    i += 1\n",
    "    with open(prefix+file, 'rb') as pf:\n",
    "        dog = pickle.load(pf)\n",
    "        \n",
    "    desc = np.array([desc[8] for desc in dog['kpd']])\n",
    "    \n",
    "    y = np.argmin(cdist(desc, model_300, 'euclidean'), axis=1)\n",
    "    \n",
    "    x = np.bincount(y, minlength=300)\n",
    "    \n",
    "    if x_trans is None:\n",
    "        x_trans = x\n",
    "    else:\n",
    "        x_trans = np.vstack((x_trans, x))\n",
    "    clear_output(wait=True)\n",
    "    print(i)\n",
    "    \n",
    "    \n",
    "    #break"
   ]
  },
  {
   "cell_type": "markdown",
   "metadata": {},
   "source": [
    "### Convert cat image descriptors to visual dictionary"
   ]
  },
  {
   "cell_type": "code",
   "execution_count": 17,
   "metadata": {},
   "outputs": [
    {
     "name": "stdout",
     "output_type": "stream",
     "text": [
      "2507\n"
     ]
    }
   ],
   "source": [
    "# Load pre-computed descriptors and translate to dictionary\n",
    "prefix = 'train-descriptors/'\n",
    "i = 0\n",
    "x_trans_c = None\n",
    "for file in cats:\n",
    "    i += 1\n",
    "    with open(prefix+file, 'rb') as pf:\n",
    "        cat = pickle.load(pf)\n",
    "        \n",
    "    desc = np.array([desc[8] for desc in cat['kpd']])\n",
    "    \n",
    "    y = np.argmin(cdist(desc, model_300, 'euclidean'), axis=1)\n",
    "    \n",
    "    x = np.bincount(y, minlength=300)\n",
    "    \n",
    "    if x_trans_c is None:\n",
    "        x_trans_c = x\n",
    "    else:\n",
    "        x_trans_c = np.vstack((x_trans_c, x))\n",
    "    clear_output(wait=True)\n",
    "    print(i)\n",
    "    \n",
    "    \n",
    "    #break"
   ]
  },
  {
   "cell_type": "code",
   "execution_count": 18,
   "metadata": {},
   "outputs": [
    {
     "data": {
      "text/plain": [
       "(2507, 300)"
      ]
     },
     "execution_count": 18,
     "metadata": {},
     "output_type": "execute_result"
    }
   ],
   "source": [
    "x_trans_c.shape"
   ]
  },
  {
   "cell_type": "code",
   "execution_count": 19,
   "metadata": {},
   "outputs": [],
   "source": [
    "X_train = np.vstack((x_trans, x_trans_c))"
   ]
  },
  {
   "cell_type": "code",
   "execution_count": 45,
   "metadata": {},
   "outputs": [],
   "source": [
    "y_train = np.concatenate((np.ones(2492), np.zeros(2507)))"
   ]
  },
  {
   "cell_type": "markdown",
   "metadata": {},
   "source": [
    "## TF-IDF Matrix"
   ]
  },
  {
   "cell_type": "code",
   "execution_count": 46,
   "metadata": {},
   "outputs": [
    {
     "data": {
      "text/plain": [
       "TfidfTransformer(norm='l2', smooth_idf=True, sublinear_tf=False, use_idf=True)"
      ]
     },
     "execution_count": 46,
     "metadata": {},
     "output_type": "execute_result"
    }
   ],
   "source": [
    "from sklearn.feature_extraction.text import TfidfTransformer\n",
    "\n",
    "tfidf = TfidfTransformer(norm=\"l2\")\n",
    "tfidf.fit(X_train)"
   ]
  },
  {
   "cell_type": "code",
   "execution_count": 47,
   "metadata": {},
   "outputs": [],
   "source": [
    "X_train_dense = tfidf.transform(X_train).todense()"
   ]
  },
  {
   "cell_type": "code",
   "execution_count": 48,
   "metadata": {
    "scrolled": true
   },
   "outputs": [
    {
     "data": {
      "text/plain": [
       "(4999, 300)"
      ]
     },
     "execution_count": 48,
     "metadata": {},
     "output_type": "execute_result"
    }
   ],
   "source": [
    "X_train_dense.shape"
   ]
  },
  {
   "cell_type": "markdown",
   "metadata": {},
   "source": [
    "## Prepare Test Dataset"
   ]
  },
  {
   "cell_type": "code",
   "execution_count": 49,
   "metadata": {},
   "outputs": [],
   "source": [
    "fte = os.listdir('train-descriptors/')[7000:8000]\n",
    "dogs_te = [f for f in fte if f.find('dog') != -1]\n",
    "cats_te = [f for f in fte if f.find('cat') != -1]\n",
    "\n",
    "prefix = 'train-descriptors/'"
   ]
  },
  {
   "cell_type": "code",
   "execution_count": 50,
   "metadata": {},
   "outputs": [
    {
     "name": "stdout",
     "output_type": "stream",
     "text": [
      "502\n"
     ]
    }
   ],
   "source": [
    "# Load pre-computed descriptors and translate to dictionary\n",
    "prefix = 'train-descriptors/'\n",
    "i = 0\n",
    "xte_trans = None\n",
    "for file in dogs_te:\n",
    "    i += 1\n",
    "    with open(prefix+file, 'rb') as pf:\n",
    "        dog = pickle.load(pf)\n",
    "        \n",
    "    desc = np.array([desc[8] for desc in dog['kpd']])\n",
    "    \n",
    "    y = np.argmin(cdist(desc, model_300, 'euclidean'), axis=1)\n",
    "    \n",
    "    x = np.bincount(y, minlength=300)\n",
    "    \n",
    "    if xte_trans is None:\n",
    "        xte_trans = x\n",
    "    else:\n",
    "        xte_trans = np.vstack((xte_trans, x))\n",
    "    clear_output(wait=True)\n",
    "    print(i)\n",
    "    \n",
    "    \n",
    "    #break"
   ]
  },
  {
   "cell_type": "code",
   "execution_count": 51,
   "metadata": {},
   "outputs": [
    {
     "name": "stdout",
     "output_type": "stream",
     "text": [
      "498\n"
     ]
    }
   ],
   "source": [
    "# Load pre-computed descriptors and translate to dictionary\n",
    "prefix = 'train-descriptors/'\n",
    "i = 0\n",
    "xte_trans_c = None\n",
    "for file in cats_te:\n",
    "    i += 1\n",
    "    with open(prefix+file, 'rb') as pf:\n",
    "        dog = pickle.load(pf)\n",
    "        \n",
    "    desc = np.array([desc[8] for desc in dog['kpd']])\n",
    "    \n",
    "    y = np.argmin(cdist(desc, model_300, 'euclidean'), axis=1)\n",
    "    \n",
    "    x = np.bincount(y, minlength=300)\n",
    "    \n",
    "    if xte_trans_c is None:\n",
    "        xte_trans_c = x\n",
    "    else:\n",
    "        xte_trans_c = np.vstack((xte_trans_c, x))\n",
    "    clear_output(wait=True)\n",
    "    print(i)\n",
    "    \n",
    "    \n",
    "    #break"
   ]
  },
  {
   "cell_type": "code",
   "execution_count": 52,
   "metadata": {},
   "outputs": [],
   "source": [
    "X_test = np.vstack((xte_trans, xte_trans_c))"
   ]
  },
  {
   "cell_type": "code",
   "execution_count": 53,
   "metadata": {},
   "outputs": [
    {
     "data": {
      "text/plain": [
       "(1000, 300)"
      ]
     },
     "execution_count": 53,
     "metadata": {},
     "output_type": "execute_result"
    }
   ],
   "source": [
    "X_test.shape"
   ]
  },
  {
   "cell_type": "code",
   "execution_count": 54,
   "metadata": {},
   "outputs": [],
   "source": [
    "X_test_dense = tfidf.transform(X_test).todense()"
   ]
  },
  {
   "cell_type": "code",
   "execution_count": 55,
   "metadata": {},
   "outputs": [
    {
     "data": {
      "text/plain": [
       "matrix([[0.09514909, 0.        , 0.03915284, ..., 0.0291558 , 0.09425389,\n",
       "         0.12373131],\n",
       "        [0.01390993, 0.02086919, 0.06009977, ..., 0.02557388, 0.02755812,\n",
       "         0.01808839],\n",
       "        [0.03530266, 0.08827481, 0.        , ..., 0.04867885, 0.01748526,\n",
       "         0.02295369],\n",
       "        ...,\n",
       "        [0.06197601, 0.06198877, 0.        , ..., 0.11394501, 0.03069646,\n",
       "         0.08059324],\n",
       "        [0.0274084 , 0.        , 0.03383479, ..., 0.05039127, 0.08145158,\n",
       "         0.03564172],\n",
       "        [0.        , 0.02329417, 0.05749998, ..., 0.06422746, 0.02307026,\n",
       "         0.03028537]])"
      ]
     },
     "execution_count": 55,
     "metadata": {},
     "output_type": "execute_result"
    }
   ],
   "source": [
    "X_test_dense"
   ]
  },
  {
   "cell_type": "code",
   "execution_count": 56,
   "metadata": {},
   "outputs": [],
   "source": [
    "y_test = np.concatenate((np.ones(502), np.zeros(498)))"
   ]
  },
  {
   "cell_type": "markdown",
   "metadata": {},
   "source": [
    "## Linear Model"
   ]
  },
  {
   "cell_type": "code",
   "execution_count": 57,
   "metadata": {},
   "outputs": [
    {
     "data": {
      "text/plain": [
       "(4999, 300)"
      ]
     },
     "execution_count": 57,
     "metadata": {},
     "output_type": "execute_result"
    }
   ],
   "source": [
    "X_train_dense.shape"
   ]
  },
  {
   "cell_type": "code",
   "execution_count": 58,
   "metadata": {},
   "outputs": [
    {
     "data": {
      "text/plain": [
       "5000"
      ]
     },
     "execution_count": 58,
     "metadata": {},
     "output_type": "execute_result"
    }
   ],
   "source": [
    "len(list(range(0,5000)))"
   ]
  },
  {
   "cell_type": "code",
   "execution_count": 59,
   "metadata": {},
   "outputs": [],
   "source": [
    "from sklearn.utils import shuffle\n",
    "ix = shuffle(list(range(0,4999)), random_state=3)\n",
    "X_train_sh = X_train_dense[ix]\n",
    "y_train_sh = y_train[ix]"
   ]
  },
  {
   "cell_type": "code",
   "execution_count": 60,
   "metadata": {},
   "outputs": [
    {
     "name": "stderr",
     "output_type": "stream",
     "text": [
      "/Users/trekendrick/.virtualenvs/py3cv4/lib/python3.6/site-packages/sklearn/linear_model/logistic.py:433: FutureWarning: Default solver will be changed to 'lbfgs' in 0.22. Specify a solver to silence this warning.\n",
      "  FutureWarning)\n"
     ]
    },
    {
     "data": {
      "text/plain": [
       "LogisticRegression(C=1.0, class_weight=None, dual=False, fit_intercept=True,\n",
       "          intercept_scaling=1, max_iter=100, multi_class='warn',\n",
       "          n_jobs=None, penalty='l2', random_state=None, solver='warn',\n",
       "          tol=0.0001, verbose=0, warm_start=False)"
      ]
     },
     "execution_count": 60,
     "metadata": {},
     "output_type": "execute_result"
    }
   ],
   "source": [
    "from sklearn.linear_model import LogisticRegression\n",
    "\n",
    "lr = LogisticRegression()\n",
    "lr.fit(X_train_sh, y_train_sh)"
   ]
  },
  {
   "cell_type": "code",
   "execution_count": 61,
   "metadata": {},
   "outputs": [],
   "source": [
    "pred_tr = lr.predict(X_train_sh)"
   ]
  },
  {
   "cell_type": "code",
   "execution_count": 62,
   "metadata": {},
   "outputs": [
    {
     "data": {
      "text/plain": [
       "0.752750550110022"
      ]
     },
     "execution_count": 62,
     "metadata": {},
     "output_type": "execute_result"
    }
   ],
   "source": [
    "from sklearn.metrics import accuracy_score\n",
    "accuracy_score(y_train_sh, pred_tr)"
   ]
  },
  {
   "cell_type": "markdown",
   "metadata": {},
   "source": [
    "## Testing Predictions"
   ]
  },
  {
   "cell_type": "code",
   "execution_count": 63,
   "metadata": {},
   "outputs": [
    {
     "data": {
      "text/plain": [
       "(1000,)"
      ]
     },
     "execution_count": 63,
     "metadata": {},
     "output_type": "execute_result"
    }
   ],
   "source": [
    "y_test.shape"
   ]
  },
  {
   "cell_type": "code",
   "execution_count": 64,
   "metadata": {},
   "outputs": [],
   "source": [
    "pred_te = lr.predict(X_test_dense)"
   ]
  },
  {
   "cell_type": "code",
   "execution_count": 65,
   "metadata": {
    "scrolled": true
   },
   "outputs": [
    {
     "data": {
      "text/plain": [
       "0.739"
      ]
     },
     "execution_count": 65,
     "metadata": {},
     "output_type": "execute_result"
    }
   ],
   "source": [
    "accuracy_score(y_test, pred_te)"
   ]
  },
  {
   "cell_type": "markdown",
   "metadata": {},
   "source": [
    "### Save predictions column"
   ]
  },
  {
   "cell_type": "code",
   "execution_count": 67,
   "metadata": {},
   "outputs": [
    {
     "data": {
      "text/plain": [
       "(5999, 300)"
      ]
     },
     "execution_count": 67,
     "metadata": {},
     "output_type": "execute_result"
    }
   ],
   "source": [
    "X_all = np.vstack((X_train_sh, X_test_dense))\n",
    "X_all.shape"
   ]
  },
  {
   "cell_type": "code",
   "execution_count": 75,
   "metadata": {
    "scrolled": true
   },
   "outputs": [],
   "source": [
    "y_all = np.concatenate((y_train_sh, y_test))\n",
    "y_all = y_all.reshape((len(y_all),1))"
   ]
  },
  {
   "cell_type": "code",
   "execution_count": 79,
   "metadata": {},
   "outputs": [],
   "source": [
    "import pandas as pd\n",
    "pd.DataFrame(X_all).to_csv('x-all.csv')\n",
    "pd.DataFrame(y_all).to_csv('y-all.csv')"
   ]
  },
  {
   "cell_type": "code",
   "execution_count": 84,
   "metadata": {},
   "outputs": [
    {
     "data": {
      "text/plain": [
       "(5999, 1)"
      ]
     },
     "execution_count": 84,
     "metadata": {},
     "output_type": "execute_result"
    }
   ],
   "source": [
    "f0_all = np.concatenate((pred_tr, pred_te))\n",
    "f0_all = f0_all.reshape((len(f0_all), 1))\n",
    "f0_all.shape"
   ]
  },
  {
   "cell_type": "code",
   "execution_count": 85,
   "metadata": {},
   "outputs": [],
   "source": [
    "pd.DataFrame(f0_all).to_csv('f0-all.csv')"
   ]
  },
  {
   "cell_type": "markdown",
   "metadata": {},
   "source": [
    "## Non-Linear Model"
   ]
  },
  {
   "cell_type": "code",
   "execution_count": 183,
   "metadata": {},
   "outputs": [],
   "source": [
    "from sklearn.svm import SVC\n",
    "svm = SVC()"
   ]
  },
  {
   "cell_type": "code",
   "execution_count": 184,
   "metadata": {
    "scrolled": true
   },
   "outputs": [
    {
     "name": "stderr",
     "output_type": "stream",
     "text": [
      "/Users/trekendrick/.virtualenvs/py3cv4/lib/python3.6/site-packages/sklearn/svm/base.py:196: FutureWarning: The default value of gamma will change from 'auto' to 'scale' in version 0.22 to account better for unscaled features. Set gamma explicitly to 'auto' or 'scale' to avoid this warning.\n",
      "  \"avoid this warning.\", FutureWarning)\n"
     ]
    },
    {
     "data": {
      "text/plain": [
       "SVC(C=1.0, cache_size=200, class_weight=None, coef0=0.0,\n",
       "  decision_function_shape='ovr', degree=3, gamma='auto_deprecated',\n",
       "  kernel='rbf', max_iter=-1, probability=False, random_state=None,\n",
       "  shrinking=True, tol=0.001, verbose=False)"
      ]
     },
     "execution_count": 184,
     "metadata": {},
     "output_type": "execute_result"
    }
   ],
   "source": [
    "svm.fit(X_train_sh, y_train_sh)"
   ]
  },
  {
   "cell_type": "code",
   "execution_count": 185,
   "metadata": {},
   "outputs": [
    {
     "data": {
      "text/plain": [
       "0.6122"
      ]
     },
     "execution_count": 185,
     "metadata": {},
     "output_type": "execute_result"
    }
   ],
   "source": [
    "pred_tr = svm.predict(X_train_sh)\n",
    "accuracy_score(y_train_sh, pred_tr)"
   ]
  },
  {
   "cell_type": "markdown",
   "metadata": {},
   "source": [
    "## Save Datasets"
   ]
  },
  {
   "cell_type": "code",
   "execution_count": 43,
   "metadata": {},
   "outputs": [],
   "source": [
    "#file = open('datasets/x-train.P', 'wb')\n",
    "#pickle.dump(X_train_sh, file)\n",
    "\n",
    "#file = open('datasets/x-test.P', 'wb')\n",
    "#pickle.dump(X_test_dense, file)\n",
    "\n",
    "#file = open('datasets/y-train.P', 'wb')\n",
    "#pickle.dump(y_train_sh, file)\n",
    "\n",
    "file = open('datasets/y-test.P', 'wb')\n",
    "pickle.dump(y_test, file)"
   ]
  }
 ],
 "metadata": {
  "kernelspec": {
   "display_name": "Python 3",
   "language": "python",
   "name": "python3"
  },
  "language_info": {
   "codemirror_mode": {
    "name": "ipython",
    "version": 3
   },
   "file_extension": ".py",
   "mimetype": "text/x-python",
   "name": "python",
   "nbconvert_exporter": "python",
   "pygments_lexer": "ipython3",
   "version": "3.6.7"
  }
 },
 "nbformat": 4,
 "nbformat_minor": 2
}

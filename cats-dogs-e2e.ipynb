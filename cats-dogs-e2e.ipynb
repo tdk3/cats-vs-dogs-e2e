{
 "cells": [
  {
   "cell_type": "code",
   "execution_count": 280,
   "metadata": {},
   "outputs": [
    {
     "ename": "ModuleNotFoundError",
     "evalue": "No module named 'sklearn'",
     "output_type": "error",
     "traceback": [
      "\u001b[0;31m---------------------------------------------------------------------------\u001b[0m",
      "\u001b[0;31mModuleNotFoundError\u001b[0m                       Traceback (most recent call last)",
      "\u001b[0;32m<ipython-input-280-28dbc31f4f45>\u001b[0m in \u001b[0;36m<module>\u001b[0;34m\u001b[0m\n\u001b[1;32m      4\u001b[0m \u001b[0;32mimport\u001b[0m \u001b[0mnumpy\u001b[0m \u001b[0;32mas\u001b[0m \u001b[0mnp\u001b[0m\u001b[0;34m\u001b[0m\u001b[0m\n\u001b[1;32m      5\u001b[0m \u001b[0;32mimport\u001b[0m \u001b[0mpandas\u001b[0m \u001b[0;32mas\u001b[0m \u001b[0mpd\u001b[0m\u001b[0;34m\u001b[0m\u001b[0m\n\u001b[0;32m----> 6\u001b[0;31m \u001b[0;32mfrom\u001b[0m \u001b[0msklearn\u001b[0m\u001b[0;34m.\u001b[0m\u001b[0mcluster\u001b[0m \u001b[0;32mimport\u001b[0m \u001b[0mKMeans\u001b[0m\u001b[0;34m\u001b[0m\u001b[0m\n\u001b[0m\u001b[1;32m      7\u001b[0m \u001b[0;32mfrom\u001b[0m \u001b[0mIPython\u001b[0m\u001b[0;34m.\u001b[0m\u001b[0mdisplay\u001b[0m \u001b[0;32mimport\u001b[0m \u001b[0mclear_output\u001b[0m\u001b[0;34m\u001b[0m\u001b[0m\n",
      "\u001b[0;31mModuleNotFoundError\u001b[0m: No module named 'sklearn'"
     ]
    }
   ],
   "source": [
    "import os\n",
    "import sys\n",
    "import cv2\n",
    "import numpy as np\n",
    "import pandas as pd\n",
    "from IPython.display import clear_output"
   ]
  },
  {
   "cell_type": "code",
   "execution_count": 2,
   "metadata": {},
   "outputs": [],
   "source": [
    "files = os.listdir('train')\n",
    "dogs = [x for x in files if x.find('dog') != -1]\n",
    "cats = [x for x in files if x.find('cat') != -1]\n",
    "targets = [dogs, cats]"
   ]
  },
  {
   "cell_type": "markdown",
   "metadata": {},
   "source": [
    "### Dataset:\n",
    "**Link:**\n",
    "\n",
    "There are 12,500 images of each species contained. Images are larger than thumbnails and are of a variety of breeds. Angles, colors, position are incidental to each photograph."
   ]
  },
  {
   "cell_type": "code",
   "execution_count": 3,
   "metadata": {},
   "outputs": [],
   "source": [
    "# Helper Functions\n",
    "def to_gray(color_img):\n",
    "    gray = cv2.cvtColor(color_img, cv2.COLOR_BGR2GRAY)\n",
    "    return gray\n",
    "\n",
    "def generate_sift(gray_img):\n",
    "    sift = cv2.xfeatures2d.SIFT_create()\n",
    "    kp, desc = sift.detectAndCompute(gray_img, None)\n",
    "    return kp, desc"
   ]
  },
  {
   "cell_type": "code",
   "execution_count": 19,
   "metadata": {},
   "outputs": [],
   "source": [
    "img = cv2.imread('train/' + dogs[1])\n",
    "img = to_gray(img)\n",
    "kp1, desc1 = generate_sift(img)"
   ]
  },
  {
   "cell_type": "code",
   "execution_count": 21,
   "metadata": {},
   "outputs": [
    {
     "name": "stdout",
     "output_type": "stream",
     "text": [
      "desc_0: 431\n",
      "desc_1: 143\n"
     ]
    }
   ],
   "source": [
    "print(\"desc_0:\", len(desc))\n",
    "print(\"desc_1:\", len(desc1))"
   ]
  },
  {
   "cell_type": "code",
   "execution_count": 22,
   "metadata": {},
   "outputs": [
    {
     "data": {
      "text/plain": [
       "574"
      ]
     },
     "execution_count": 22,
     "metadata": {},
     "output_type": "execute_result"
    }
   ],
   "source": [
    "len(np.vstack((desc,desc1)))"
   ]
  },
  {
   "cell_type": "markdown",
   "metadata": {},
   "source": [
    "### Extracting keypoint descriptors from images"
   ]
  },
  {
   "cell_type": "code",
   "execution_count": 171,
   "metadata": {},
   "outputs": [
    {
     "data": {
      "text/plain": [
       "100"
      ]
     },
     "execution_count": 171,
     "metadata": {},
     "output_type": "execute_result"
    }
   ],
   "source": [
    "np.full((100,1), 'test').shape[0]"
   ]
  },
  {
   "cell_type": "code",
   "execution_count": 190,
   "metadata": {},
   "outputs": [],
   "source": [
    "def extract_desc(file, path='train/'):\n",
    "    \n",
    "    img = cv2.imread(path + file)\n",
    "    img = to_gray(img)\n",
    "    \n",
    "    kp, desc = generate_sift(img)\n",
    "    \n",
    "    num_desc = desc.shape[0]\n",
    "    images = np.full((num_desc,1), file)\n",
    "    \n",
    "    return images, kp, desc"
   ]
  },
  {
   "cell_type": "code",
   "execution_count": 198,
   "metadata": {},
   "outputs": [],
   "source": [
    "def run_extract(file_list):\n",
    "    \n",
    "    num_of_files = len(file_list)\n",
    "    i = 1\n",
    "    desc_total = None\n",
    "    kp_total = None\n",
    "    img_total = None\n",
    "    \n",
    "    for file in file_list:\n",
    "        \n",
    "        # Extract all SIFT keypoints and descriptors\n",
    "        images, kp, desc = extract_desc(file)\n",
    "        \n",
    "        if i == 1:\n",
    "            kp_total = kp\n",
    "            desc_total = desc\n",
    "            img_total = images\n",
    "            clear_output(wait=True)\n",
    "            print(i, \"/\", num_of_files, \"completed\")\n",
    "            i = i + 1\n",
    "            continue\n",
    "            \n",
    "        else:\n",
    "            kp_total = np.append(kp_total, kp)\n",
    "            desc_total = np.vstack((desc_total, desc))\n",
    "            img_total = np.vstack((img_total, images))\n",
    "            clear_output(wait=True)\n",
    "            print(i, \"/\", num_of_files, \"completed\")\n",
    "            i = i + 1\n",
    "    \n",
    "    \n",
    "    return img_total, kp_total, desc_total"
   ]
  },
  {
   "cell_type": "code",
   "execution_count": 278,
   "metadata": {},
   "outputs": [
    {
     "name": "stdout",
     "output_type": "stream",
     "text": [
      "500 / 500 completed\n"
     ]
    }
   ],
   "source": [
    "dog_img, dog_kp, dog_desc = run_extract(dogs[:500])"
   ]
  },
  {
   "cell_type": "code",
   "execution_count": 272,
   "metadata": {},
   "outputs": [
    {
     "name": "stdout",
     "output_type": "stream",
     "text": [
      "500 / 500 completed\n"
     ]
    }
   ],
   "source": [
    "cat_img, cat_kp, cat_desc = run_extract(cats[:500])"
   ]
  },
  {
   "cell_type": "code",
   "execution_count": 274,
   "metadata": {},
   "outputs": [
    {
     "data": {
      "text/plain": [
       "129.7286376953125"
      ]
     },
     "execution_count": 274,
     "metadata": {},
     "output_type": "execute_result"
    }
   ],
   "source": [
    "dog_kp[0].angle"
   ]
  },
  {
   "cell_type": "code",
   "execution_count": 276,
   "metadata": {
    "scrolled": false
   },
   "outputs": [
    {
     "data": {
      "text/plain": [
       "(333474, 1)"
      ]
     },
     "execution_count": 276,
     "metadata": {},
     "output_type": "execute_result"
    }
   ],
   "source": [
    "cat_img.shape"
   ]
  },
  {
   "cell_type": "markdown",
   "metadata": {},
   "source": [
    "## Save Data\n",
    "Comment out if not needed\n"
   ]
  },
  {
   "cell_type": "code",
   "execution_count": 103,
   "metadata": {},
   "outputs": [],
   "source": [
    "# Save Cats\n",
    "np.save('20190120-sampledesc-cats', cat_desc)\n",
    "#np.save('20190120-kmeans-samplelabels-cats', labels)\n",
    "#np.save('20190120-kmeans-samplecenters-cats', centers)\n",
    "# Save Dogs\n",
    "np.save('20190120-sampledesc-dogs', dog_desc)\n",
    "np.save('20190120-kmeans-samplelabels-dogs', labels)\n",
    "np.save('20190120-kmeans-samplecenters-dogs', centers)"
   ]
  },
  {
   "cell_type": "markdown",
   "metadata": {},
   "source": [
    "### K-Means Clustering"
   ]
  },
  {
   "cell_type": "code",
   "execution_count": 7,
   "metadata": {},
   "outputs": [],
   "source": [
    "# Define criteria = ( type, max_iter = 10 , epsilon = 1.0 )\n",
    "criteria = (cv2.TERM_CRITERIA_EPS + cv2.TERM_CRITERIA_MAX_ITER, 10, 1.0)\n",
    "\n",
    "# Set flags (Just to avoid line break in the code)\n",
    "flags = cv2.KMEANS_RANDOM_CENTERS\n",
    "\n",
    "# Apply KMeans\n",
    "compactness,labels,centers = cv2.kmeans(desc_total,1000,None,criteria,10,flags)"
   ]
  },
  {
   "cell_type": "code",
   "execution_count": 58,
   "metadata": {
    "scrolled": true
   },
   "outputs": [
    {
     "data": {
      "text/html": [
       "<div>\n",
       "<style scoped>\n",
       "    .dataframe tbody tr th:only-of-type {\n",
       "        vertical-align: middle;\n",
       "    }\n",
       "\n",
       "    .dataframe tbody tr th {\n",
       "        vertical-align: top;\n",
       "    }\n",
       "\n",
       "    .dataframe thead th {\n",
       "        text-align: right;\n",
       "    }\n",
       "</style>\n",
       "<table border=\"1\" class=\"dataframe\">\n",
       "  <thead>\n",
       "    <tr style=\"text-align: right;\">\n",
       "      <th></th>\n",
       "      <th>desc_cats</th>\n",
       "    </tr>\n",
       "  </thead>\n",
       "  <tbody>\n",
       "    <tr>\n",
       "      <th>0.01</th>\n",
       "      <td>45.97</td>\n",
       "    </tr>\n",
       "    <tr>\n",
       "      <th>0.25</th>\n",
       "      <td>187.75</td>\n",
       "    </tr>\n",
       "    <tr>\n",
       "      <th>0.50</th>\n",
       "      <td>257.00</td>\n",
       "    </tr>\n",
       "    <tr>\n",
       "      <th>0.75</th>\n",
       "      <td>374.25</td>\n",
       "    </tr>\n",
       "    <tr>\n",
       "      <th>0.99</th>\n",
       "      <td>1637.48</td>\n",
       "    </tr>\n",
       "  </tbody>\n",
       "</table>\n",
       "</div>"
      ],
      "text/plain": [
       "      desc_cats\n",
       "0.01      45.97\n",
       "0.25     187.75\n",
       "0.50     257.00\n",
       "0.75     374.25\n",
       "0.99    1637.48"
      ]
     },
     "execution_count": 58,
     "metadata": {},
     "output_type": "execute_result"
    }
   ],
   "source": [
    "df.to_frame().quantile([0.01, 0.25, 0.5, 0.75, 0.99])"
   ]
  },
  {
   "cell_type": "code",
   "execution_count": 54,
   "metadata": {},
   "outputs": [
    {
     "data": {
      "text/plain": [
       "[array([187.75,   1.  ]), array([374.25, 646.  ])]"
      ]
     },
     "execution_count": 54,
     "metadata": {},
     "output_type": "execute_result"
    },
    {
     "data": {
      "image/png": "[encoded data removed]",
      "text/plain": [
       "<Figure size 432x288 with 1 Axes>"
      ]
     },
     "metadata": {
      "needs_background": "light"
     },
     "output_type": "display_data"
    }
   ],
   "source": [
    "_, bp = df.to_frame().boxplot(return_type='both')\n",
    "[whiskers.get_ydata() for whiskers in bp[\"whiskers\"]]"
   ]
  },
  {
   "cell_type": "markdown",
   "metadata": {},
   "source": [
    "### Cats"
   ]
  },
  {
   "cell_type": "code",
   "execution_count": 10,
   "metadata": {},
   "outputs": [
    {
     "data": {
      "image/png": "[encoded data removed]",
      "text/plain": [
       "<Figure size 432x288 with 1 Axes>"
      ]
     },
     "metadata": {
      "needs_background": "light"
     },
     "output_type": "display_data"
    },
    {
     "data": {
      "text/plain": [
       "((array([6.910e+02, 1.000e+00, 2.130e+02, 1.300e+01, 7.000e+02, 6.440e+02,\n",
       "         1.350e+02, 6.000e+00, 5.000e+00, 3.860e+02, 1.400e+01, 6.000e+01,\n",
       "         3.730e+02, 1.210e+02, 2.930e+02, 1.070e+02, 1.750e+02, 2.350e+02,\n",
       "         1.020e+02, 3.840e+02, 1.190e+02, 3.510e+02, 1.430e+02, 5.600e+02,\n",
       "         1.350e+02, 3.080e+02, 7.780e+02, 7.500e+01, 2.130e+02, 1.500e+02,\n",
       "         1.800e+01, 1.480e+02, 7.710e+02, 1.070e+02, 1.910e+02, 6.410e+02,\n",
       "         3.310e+02, 1.290e+02, 4.380e+02, 6.660e+02, 2.409e+03, 2.120e+02,\n",
       "         1.330e+02, 8.100e+01, 1.780e+02, 3.890e+02, 1.410e+02, 2.630e+02,\n",
       "         1.790e+02, 1.620e+02, 1.300e+02, 1.400e+02, 2.318e+03, 2.060e+02,\n",
       "         2.210e+02, 3.280e+02, 1.080e+02, 1.380e+02, 3.380e+02, 1.170e+02,\n",
       "         2.290e+02, 2.016e+03, 3.450e+02, 1.530e+02, 3.630e+02, 1.190e+02,\n",
       "         9.000e+01, 1.100e+02, 2.230e+02, 1.490e+02, 2.100e+02, 1.240e+02,\n",
       "         1.030e+02, 1.840e+02, 7.710e+02, 1.580e+02, 3.070e+02, 1.820e+02,\n",
       "         4.600e+01, 2.040e+02, 3.310e+02, 1.135e+03, 3.740e+02, 1.902e+03,\n",
       "         1.650e+02, 5.360e+02, 8.900e+01, 1.160e+02, 5.800e+02, 1.620e+02,\n",
       "         1.020e+02, 3.230e+02, 1.780e+02, 3.320e+02, 2.680e+02, 4.180e+02,\n",
       "         4.790e+02, 1.650e+02, 3.250e+02, 1.890e+02, 1.190e+02, 1.760e+02,\n",
       "         2.130e+02, 1.000e+00, 2.040e+02, 1.320e+02, 3.030e+02, 1.830e+02,\n",
       "         1.580e+02, 9.200e+01, 2.270e+02, 1.840e+02, 1.900e+02, 1.690e+02,\n",
       "         1.470e+02, 2.110e+02, 1.780e+02, 3.760e+02, 6.900e+01, 2.340e+02,\n",
       "         6.000e+01, 3.340e+02, 2.840e+02, 3.060e+02, 2.230e+02, 2.830e+02,\n",
       "         2.170e+02, 3.750e+02, 1.700e+02, 1.890e+02, 2.560e+02, 4.830e+02,\n",
       "         3.020e+02, 1.940e+02, 2.350e+02, 6.500e+01, 3.560e+02, 7.800e+01,\n",
       "         1.670e+02, 3.210e+02, 1.570e+02, 8.330e+02, 1.280e+02, 3.440e+02,\n",
       "         4.560e+02, 5.170e+02, 2.090e+02, 5.440e+02, 1.710e+02, 1.310e+02,\n",
       "         5.970e+02, 4.330e+02, 1.650e+02, 2.490e+02, 5.370e+02, 3.260e+02,\n",
       "         1.120e+02, 1.900e+02, 1.300e+02, 8.070e+02, 1.080e+02, 3.740e+02,\n",
       "         2.400e+02, 1.410e+02, 5.560e+02, 1.600e+02, 1.870e+02, 4.470e+02,\n",
       "         4.610e+02, 8.100e+01, 2.080e+02, 2.880e+02, 9.400e+01, 2.020e+02,\n",
       "         1.620e+02, 1.650e+02, 2.910e+02, 2.260e+02, 1.310e+02, 1.290e+02,\n",
       "         2.840e+02, 2.770e+02, 2.330e+02, 2.480e+02, 1.580e+02, 8.000e+01,\n",
       "         6.020e+02, 5.940e+02, 4.940e+02, 5.510e+02, 2.440e+02, 1.520e+02,\n",
       "         3.500e+02, 6.000e+01, 9.920e+02, 5.040e+02, 1.210e+02, 9.300e+01,\n",
       "         9.380e+02, 1.580e+02, 1.730e+02, 4.860e+02, 2.020e+02, 2.740e+02,\n",
       "         1.860e+02, 2.920e+02, 2.320e+02, 1.710e+02, 4.620e+02, 1.490e+02,\n",
       "         1.740e+02, 9.300e+01, 1.635e+03, 2.220e+02, 2.150e+02, 1.010e+02,\n",
       "         8.400e+01, 1.500e+02, 3.050e+02, 2.590e+02, 3.810e+02, 1.060e+02,\n",
       "         1.340e+02, 1.910e+02, 1.130e+02, 1.540e+02, 1.490e+02, 7.960e+02,\n",
       "         1.930e+02, 2.590e+02, 1.670e+02, 3.350e+02, 2.430e+02, 2.630e+02,\n",
       "         2.320e+02, 4.770e+02, 3.210e+02, 1.910e+02, 2.120e+02, 2.640e+02,\n",
       "         2.960e+02, 1.830e+02, 1.690e+02, 5.780e+02, 3.090e+02, 2.120e+02,\n",
       "         2.730e+02, 3.630e+02, 2.920e+02, 2.230e+02, 2.660e+02, 1.650e+02,\n",
       "         2.340e+02, 2.140e+02, 4.110e+02, 2.600e+02, 3.950e+02, 1.530e+02,\n",
       "         1.910e+02, 1.210e+02, 3.430e+02, 5.370e+02, 1.910e+02, 2.920e+02,\n",
       "         2.260e+02, 2.690e+02, 1.883e+03, 3.570e+02, 1.340e+02, 1.980e+02,\n",
       "         3.740e+02, 2.320e+02, 2.850e+02, 2.160e+02, 2.660e+02, 1.940e+02,\n",
       "         3.280e+02, 4.780e+02, 9.090e+02, 1.820e+02, 1.900e+02, 4.770e+02,\n",
       "         2.770e+02, 1.500e+02, 2.230e+02, 2.650e+02, 1.303e+03, 1.960e+02,\n",
       "         2.550e+02, 1.830e+02, 2.130e+02, 2.740e+02, 3.580e+02, 1.440e+02,\n",
       "         2.460e+02, 4.300e+01, 3.920e+02, 1.720e+02, 3.730e+02, 9.700e+01,\n",
       "         1.450e+02, 3.000e+02, 3.940e+02, 4.080e+02, 2.292e+03, 2.370e+02,\n",
       "         3.700e+02, 1.660e+02, 3.810e+02, 3.000e+02, 3.460e+02, 2.370e+02,\n",
       "         2.620e+02, 2.580e+02, 1.400e+02, 2.430e+02, 2.790e+02, 3.420e+02,\n",
       "         4.820e+02, 5.940e+02, 2.000e+02, 1.330e+02, 8.220e+02, 1.340e+02,\n",
       "         2.310e+02, 1.500e+02, 1.840e+02, 4.740e+02, 1.670e+02, 2.440e+02,\n",
       "         6.250e+02, 9.670e+02, 3.890e+02, 4.080e+02, 6.800e+01, 4.610e+02,\n",
       "         1.780e+02, 1.440e+02, 4.360e+02, 3.300e+02, 2.510e+02, 2.530e+02,\n",
       "         2.090e+02, 1.850e+02, 6.550e+02, 1.040e+02, 2.860e+02, 2.140e+02,\n",
       "         3.860e+02, 1.760e+02, 4.480e+02, 1.430e+02, 5.020e+02, 2.120e+02,\n",
       "         3.240e+02, 3.980e+02, 2.280e+02, 1.420e+02, 1.200e+02, 3.480e+02,\n",
       "         1.670e+02, 2.120e+02, 3.390e+02, 3.170e+02, 2.850e+02, 3.440e+02,\n",
       "         1.950e+02, 1.610e+02, 1.610e+02, 1.460e+02, 1.480e+02, 1.510e+03,\n",
       "         4.260e+02, 3.300e+02, 3.020e+02, 3.260e+02, 2.100e+02, 5.310e+02,\n",
       "         3.410e+02, 3.520e+02, 3.140e+02, 2.410e+02, 1.730e+02, 4.980e+02,\n",
       "         1.490e+02, 2.210e+02, 2.310e+02, 1.840e+02, 1.820e+02, 1.380e+02,\n",
       "         2.090e+02, 2.290e+02, 4.030e+02, 2.290e+02, 2.570e+02, 1.043e+03,\n",
       "         5.910e+02, 2.590e+02, 2.550e+02, 1.000e+01, 3.100e+02, 2.450e+02,\n",
       "         3.210e+02, 4.080e+02, 1.870e+02, 1.040e+02, 2.170e+02, 1.970e+02,\n",
       "         2.760e+02, 8.170e+02, 1.890e+02, 1.360e+02, 1.520e+02, 2.700e+02,\n",
       "         1.950e+02, 3.510e+02, 4.620e+02, 2.110e+02, 1.870e+02, 3.380e+02,\n",
       "         3.080e+02, 1.450e+02, 2.340e+02, 4.580e+02, 4.940e+02, 2.070e+02,\n",
       "         4.520e+02, 1.615e+03, 6.940e+02, 2.450e+02, 2.670e+02, 3.130e+02,\n",
       "         2.240e+02, 2.570e+02, 6.150e+02, 1.710e+02, 3.870e+02, 6.500e+01,\n",
       "         9.110e+02, 1.480e+02, 9.900e+02, 2.800e+01, 4.770e+02, 3.170e+02,\n",
       "         2.180e+02, 2.650e+02, 3.260e+02, 1.990e+02, 2.980e+02, 1.170e+02,\n",
       "         1.670e+02, 2.310e+02, 2.030e+02, 1.550e+02, 2.720e+02, 2.930e+02,\n",
       "         4.010e+02, 2.260e+02, 2.500e+02, 2.190e+02, 1.600e+02, 2.890e+02,\n",
       "         2.140e+02, 2.760e+02, 2.910e+02, 2.160e+02, 1.150e+02, 1.440e+02,\n",
       "         1.780e+02, 2.510e+02, 2.100e+02, 1.980e+02, 6.840e+02, 1.510e+02,\n",
       "         5.910e+02, 2.410e+02, 1.540e+02, 2.960e+02, 2.230e+02, 1.560e+02,\n",
       "         2.200e+02, 1.950e+02, 2.050e+02, 1.640e+02, 1.076e+03, 4.250e+02,\n",
       "         4.340e+02, 4.670e+02, 1.860e+02, 3.000e+02, 2.430e+02, 2.130e+02,\n",
       "         1.380e+02, 4.690e+02, 8.140e+02, 4.360e+02, 3.130e+02, 3.270e+02,\n",
       "         1.660e+02, 2.480e+02, 2.970e+02, 3.260e+02, 2.210e+02, 1.440e+02,\n",
       "         1.020e+02, 5.670e+02, 3.660e+02, 2.390e+02, 1.930e+02, 1.910e+02,\n",
       "         1.460e+02, 2.220e+02, 3.020e+02, 2.340e+02, 1.420e+02, 1.680e+02,\n",
       "         4.490e+02, 2.250e+02, 1.790e+02, 4.630e+02, 6.780e+02, 3.580e+02,\n",
       "         4.140e+02, 3.930e+02, 2.120e+02, 2.950e+02, 2.500e+02, 2.740e+02,\n",
       "         6.170e+02, 2.580e+02, 1.670e+02, 3.560e+02, 1.031e+03, 2.730e+02,\n",
       "         2.300e+02, 1.140e+02, 1.990e+02, 4.170e+02, 3.710e+02, 1.790e+02,\n",
       "         3.160e+02, 1.850e+02, 8.830e+02, 4.180e+02, 1.460e+02, 1.810e+02,\n",
       "         2.160e+02, 2.630e+02, 1.930e+02, 3.050e+02, 3.790e+02, 7.250e+02,\n",
       "         4.970e+02, 3.200e+02, 2.200e+02, 1.480e+02, 2.580e+02, 2.380e+02,\n",
       "         2.470e+02, 1.830e+02, 1.370e+02, 2.950e+02, 1.570e+02, 1.920e+02,\n",
       "         2.300e+02, 6.570e+02, 5.790e+02, 1.870e+02, 2.850e+02, 3.510e+02,\n",
       "         5.390e+02, 2.300e+02, 3.610e+02, 1.330e+02, 1.710e+02, 1.780e+02,\n",
       "         6.240e+02, 2.660e+02, 1.890e+02, 3.340e+02, 4.340e+02, 3.920e+02,\n",
       "         5.100e+02, 1.620e+02, 2.224e+03, 6.360e+02, 2.540e+02, 7.040e+02,\n",
       "         4.140e+02, 3.520e+02, 5.060e+02, 3.920e+02, 3.700e+02, 2.280e+02,\n",
       "         3.580e+02, 7.870e+02, 3.060e+02, 2.070e+02, 2.850e+02, 3.210e+02,\n",
       "         7.110e+02, 1.250e+02, 1.220e+02, 2.810e+02, 5.110e+02, 2.100e+02,\n",
       "         6.830e+02, 7.900e+01, 2.450e+02, 2.790e+02, 1.580e+02, 6.560e+02,\n",
       "         3.880e+02, 2.810e+02, 2.060e+02, 2.900e+02, 2.550e+02, 9.840e+02,\n",
       "         4.510e+02, 2.140e+02, 4.797e+03, 2.200e+02, 2.270e+02, 2.290e+02,\n",
       "         2.840e+02, 2.720e+02, 5.820e+02, 3.360e+02, 1.320e+02, 1.500e+02,\n",
       "         4.270e+02, 1.390e+02, 3.200e+02, 2.180e+02, 4.920e+02, 3.170e+02,\n",
       "         2.110e+02, 1.104e+03, 1.850e+02, 2.100e+02, 2.390e+02, 1.370e+02,\n",
       "         1.790e+02, 2.760e+02, 2.150e+02, 2.780e+02, 2.280e+02, 1.610e+02,\n",
       "         3.400e+02, 2.353e+03, 2.290e+02, 8.530e+02, 1.760e+02, 3.150e+02,\n",
       "         6.960e+02, 2.620e+02, 2.640e+02, 5.460e+02, 2.440e+02, 1.520e+02,\n",
       "         3.730e+02, 5.230e+02, 1.660e+02, 3.020e+02, 2.510e+02, 3.300e+02,\n",
       "         3.010e+02, 2.220e+02, 1.600e+02, 7.730e+02, 3.350e+02, 4.480e+02,\n",
       "         1.410e+02, 2.430e+02, 8.250e+02, 3.320e+02, 1.980e+02, 2.490e+02,\n",
       "         9.900e+02, 3.020e+02, 5.180e+02, 2.020e+02, 2.840e+02, 2.640e+02,\n",
       "         2.550e+02, 1.500e+02, 3.220e+02, 2.060e+02, 1.870e+02, 3.990e+02,\n",
       "         3.090e+02, 1.580e+02, 3.220e+02, 1.020e+02, 2.130e+02, 3.030e+02,\n",
       "         1.500e+02, 1.690e+02, 6.620e+02, 4.000e+02, 4.120e+02, 2.220e+02,\n",
       "         3.620e+03, 1.730e+02, 1.200e+02, 3.010e+02, 6.460e+02, 3.010e+02,\n",
       "         2.650e+02, 2.480e+02, 4.240e+02, 3.500e+02, 4.290e+02, 4.070e+02,\n",
       "         2.210e+02, 4.500e+02, 1.640e+02, 4.850e+02, 1.390e+02, 1.260e+02,\n",
       "         2.890e+02, 3.190e+02, 9.170e+02, 2.570e+02, 1.037e+03, 2.220e+02,\n",
       "         1.860e+02, 3.250e+02, 5.930e+02, 3.650e+02, 2.960e+02, 2.280e+02,\n",
       "         2.210e+02, 1.940e+02, 1.960e+02, 4.350e+02, 4.560e+02, 3.340e+02,\n",
       "         3.800e+02, 2.550e+02, 5.970e+02, 2.070e+02, 3.850e+02, 2.180e+02,\n",
       "         1.052e+03, 1.740e+02, 2.580e+02, 1.890e+02, 1.890e+02, 1.870e+02,\n",
       "         4.680e+02, 1.380e+02, 3.100e+02, 1.540e+02, 2.820e+02, 3.870e+02,\n",
       "         3.060e+02, 1.810e+02, 3.130e+02, 4.370e+02, 1.900e+02, 2.670e+02,\n",
       "         7.750e+02, 1.326e+03, 6.930e+02, 2.060e+02, 2.190e+02, 1.930e+02,\n",
       "         2.550e+02, 2.530e+02, 1.970e+02, 3.170e+02, 1.700e+02, 2.630e+02,\n",
       "         2.540e+02, 2.180e+02, 1.730e+02, 2.240e+02, 4.660e+02, 2.090e+02,\n",
       "         2.460e+02, 3.030e+02, 3.240e+02, 5.250e+02, 2.370e+02, 2.750e+02,\n",
       "         2.240e+02, 2.480e+02, 7.180e+02, 5.630e+02, 4.360e+02, 2.500e+02,\n",
       "         3.850e+02, 3.410e+02, 1.760e+02, 1.630e+02, 4.650e+02, 2.570e+02,\n",
       "         2.320e+02, 2.560e+02, 1.000e+02, 2.500e+02, 1.820e+02, 1.650e+02,\n",
       "         6.090e+02, 2.100e+02, 2.370e+02, 5.130e+02, 2.220e+02, 1.520e+02,\n",
       "         2.740e+02, 3.170e+02, 3.240e+02, 3.050e+02, 2.380e+02, 4.290e+02,\n",
       "         4.240e+02, 4.400e+02, 1.970e+02, 7.520e+02, 2.300e+02, 3.690e+02,\n",
       "         1.180e+02, 2.370e+02, 2.620e+02, 4.520e+02, 2.000e+02, 3.870e+02,\n",
       "         4.160e+02, 3.730e+02, 3.520e+02, 1.900e+02, 2.470e+02, 2.220e+02,\n",
       "         4.430e+02, 3.790e+02, 1.550e+02, 1.421e+03, 2.370e+02, 1.920e+02,\n",
       "         2.260e+02, 2.010e+02, 2.470e+02, 4.740e+02, 1.360e+02, 1.482e+03,\n",
       "         3.180e+02, 3.690e+02, 4.760e+02, 2.950e+02, 4.920e+02, 3.170e+02,\n",
       "         6.700e+02, 2.900e+02, 3.040e+02, 2.370e+02, 2.970e+02, 5.270e+02,\n",
       "         3.440e+02, 3.880e+02, 2.230e+02, 3.280e+02, 3.590e+02, 2.740e+02,\n",
       "         1.440e+02, 2.250e+02, 7.600e+02, 3.210e+02, 3.010e+02, 1.450e+02,\n",
       "         2.220e+02, 3.210e+02, 6.590e+02, 1.880e+02, 3.930e+02, 2.880e+02,\n",
       "         5.070e+02, 3.040e+02, 5.040e+02, 2.310e+02, 3.200e+02, 2.730e+02,\n",
       "         2.180e+02, 3.250e+02, 2.030e+02, 2.180e+02, 3.050e+02, 4.230e+02,\n",
       "         3.240e+02, 8.970e+02, 3.170e+02, 2.070e+02, 2.100e+02, 2.330e+02,\n",
       "         4.600e+02, 4.680e+02, 1.950e+02, 8.080e+02, 3.560e+02, 1.890e+02,\n",
       "         1.920e+02, 1.950e+02, 1.660e+02, 2.960e+02, 1.670e+02, 2.490e+02,\n",
       "         7.180e+02, 5.510e+02, 1.290e+02, 1.380e+02, 3.700e+02, 2.230e+02,\n",
       "         7.180e+02, 3.200e+02, 3.200e+02, 3.390e+02, 2.020e+02, 2.560e+02,\n",
       "         2.090e+02, 3.100e+02, 2.080e+02, 2.530e+02, 1.220e+02, 2.670e+02,\n",
       "         2.660e+02, 3.680e+02, 2.370e+02, 5.250e+02, 2.020e+02, 2.210e+02,\n",
       "         2.670e+02, 4.820e+02, 2.940e+02, 3.340e+02, 1.470e+02, 2.330e+02,\n",
       "         2.800e+02, 5.780e+02, 2.610e+02, 2.340e+02, 2.250e+02, 5.100e+02,\n",
       "         5.910e+02, 1.530e+02, 2.650e+02, 4.400e+02, 1.960e+02, 2.680e+02,\n",
       "         2.690e+02, 4.210e+02, 2.700e+02, 5.320e+02, 3.780e+02, 6.040e+02,\n",
       "         1.900e+02, 2.510e+02, 5.290e+02, 1.690e+02, 2.900e+02, 4.460e+02,\n",
       "         5.830e+02, 2.580e+02, 3.980e+02, 2.350e+02, 1.400e+02, 6.850e+02,\n",
       "         2.150e+02, 5.400e+02, 1.670e+02, 4.220e+02, 5.330e+02, 2.980e+02,\n",
       "         3.650e+02, 3.790e+02, 1.360e+02, 4.660e+02, 5.080e+02, 3.050e+02,\n",
       "         2.900e+02, 2.100e+02, 4.420e+02, 3.930e+02, 2.680e+02, 3.320e+02,\n",
       "         2.490e+02, 2.290e+02, 2.630e+02, 1.920e+02, 5.380e+02, 1.910e+02,\n",
       "         3.420e+02, 5.820e+02, 1.780e+02, 3.500e+02, 2.750e+02, 5.480e+02,\n",
       "         1.310e+02, 3.630e+02, 4.050e+02, 2.780e+02]),\n",
       "  array([  0.   ,   0.999,   1.998, ..., 997.002, 998.001, 999.   ]),\n",
       "  <a list of 1000 Patch objects>),\n",
       " None)"
      ]
     },
     "execution_count": 10,
     "metadata": {},
     "output_type": "execute_result"
    }
   ],
   "source": [
    "from matplotlib import pyplot as plt\n",
    "plt.hist(labels, bins=1000),plt.show()"
   ]
  },
  {
   "cell_type": "code",
   "execution_count": 83,
   "metadata": {},
   "outputs": [],
   "source": [
    "cdf = pd.DataFrame(labels, columns=[\"desc_cats\"])\n",
    "top_500_cats = cdf[\"desc_cats\"].value_counts().nlargest(500).reset_index()['index']\n"
   ]
  },
  {
   "cell_type": "code",
   "execution_count": 95,
   "metadata": {},
   "outputs": [],
   "source": [
    "cat_centers = centers[top_500_cats]"
   ]
  },
  {
   "cell_type": "markdown",
   "metadata": {},
   "source": [
    "### Dogs"
   ]
  },
  {
   "cell_type": "code",
   "execution_count": 100,
   "metadata": {
    "scrolled": true
   },
   "outputs": [
    {
     "data": {
      "image/png": "[encoded data removed]",
      "text/plain": [
       "<Figure size 432x288 with 1 Axes>"
      ]
     },
     "metadata": {
      "needs_background": "light"
     },
     "output_type": "display_data"
    },
    {
     "data": {
      "text/plain": [
       "((array([2.080e+02, 1.336e+03, 1.500e+01, 1.760e+02, 1.860e+02, 6.300e+01,\n",
       "         2.000e+00, 1.002e+03, 1.720e+02, 1.160e+02, 1.150e+02, 1.550e+02,\n",
       "         1.240e+02, 2.450e+02, 1.510e+02, 1.130e+02, 7.200e+01, 2.420e+02,\n",
       "         3.730e+02, 1.330e+02, 2.000e+01, 1.730e+02, 1.120e+02, 2.190e+02,\n",
       "         1.600e+02, 5.140e+02, 3.010e+02, 8.000e+01, 2.690e+02, 1.720e+02,\n",
       "         3.940e+02, 4.290e+02, 4.330e+02, 2.000e+02, 2.650e+02, 2.860e+02,\n",
       "         2.640e+02, 8.200e+01, 8.700e+01, 3.240e+02, 3.980e+02, 1.490e+02,\n",
       "         1.600e+02, 2.440e+02, 1.980e+02, 2.500e+02, 7.500e+01, 3.400e+02,\n",
       "         5.810e+02, 2.480e+02, 1.380e+02, 1.890e+02, 1.980e+02, 3.900e+02,\n",
       "         3.310e+02, 1.370e+02, 6.230e+02, 2.736e+03, 2.040e+02, 4.960e+02,\n",
       "         4.220e+02, 2.580e+02, 1.640e+02, 1.390e+02, 3.420e+02, 1.300e+02,\n",
       "         3.900e+02, 8.100e+01, 3.560e+02, 1.980e+02, 1.770e+02, 3.550e+02,\n",
       "         2.110e+02, 3.080e+02, 2.470e+02, 3.870e+02, 3.570e+02, 1.590e+02,\n",
       "         5.890e+02, 2.340e+02, 1.880e+02, 2.630e+02, 1.760e+02, 3.540e+02,\n",
       "         1.770e+02, 3.020e+02, 3.320e+02, 4.270e+02, 1.300e+02, 1.760e+02,\n",
       "         4.170e+02, 1.970e+02, 4.200e+02, 4.870e+02, 4.450e+02, 2.970e+02,\n",
       "         1.180e+02, 4.130e+02, 6.220e+02, 1.990e+02, 1.360e+02, 4.010e+02,\n",
       "         2.870e+02, 2.400e+02, 1.020e+02, 3.340e+02, 4.220e+02, 1.680e+02,\n",
       "         4.210e+02, 4.260e+02, 1.590e+02, 5.760e+02, 7.100e+02, 2.110e+02,\n",
       "         1.620e+02, 3.620e+02, 1.400e+02, 1.280e+02, 3.560e+02, 3.320e+02,\n",
       "         1.670e+02, 3.370e+02, 3.220e+02, 8.600e+01, 1.140e+02, 4.580e+02,\n",
       "         1.480e+02, 1.140e+02, 4.930e+02, 2.960e+02, 3.590e+02, 3.270e+02,\n",
       "         4.000e+01, 1.640e+02, 3.910e+02, 4.040e+02, 2.530e+02, 3.700e+02,\n",
       "         1.271e+03, 1.510e+02, 1.370e+02, 9.700e+01, 8.200e+01, 2.460e+02,\n",
       "         3.610e+02, 5.160e+02, 4.420e+02, 2.091e+03, 3.820e+02, 2.890e+02,\n",
       "         9.900e+01, 3.190e+02, 4.160e+02, 3.620e+02, 2.220e+02, 1.060e+02,\n",
       "         2.970e+02, 3.960e+02, 3.100e+02, 2.110e+02, 3.200e+02, 2.800e+02,\n",
       "         9.600e+01, 3.990e+02, 3.290e+02, 5.130e+02, 2.000e+02, 4.140e+02,\n",
       "         3.270e+02, 3.850e+02, 4.240e+02, 6.650e+02, 2.460e+02, 4.980e+02,\n",
       "         6.820e+02, 4.310e+02, 4.370e+02, 3.300e+02, 1.280e+02, 2.120e+02,\n",
       "         7.420e+02, 3.400e+02, 7.340e+02, 7.940e+02, 1.380e+02, 1.930e+02,\n",
       "         5.610e+02, 2.780e+02, 3.640e+02, 2.100e+02, 5.380e+02, 1.900e+02,\n",
       "         3.190e+02, 2.060e+02, 3.710e+02, 5.110e+02, 1.800e+02, 4.930e+02,\n",
       "         4.670e+02, 4.760e+02, 3.130e+02, 5.710e+02, 4.140e+02, 3.640e+02,\n",
       "         5.260e+02, 5.960e+02, 3.480e+02, 4.560e+02, 2.370e+02, 1.990e+02,\n",
       "         4.760e+02, 3.910e+02, 3.880e+02, 3.690e+02, 6.880e+02, 1.740e+02,\n",
       "         3.580e+02, 1.800e+02, 2.830e+02, 2.300e+02, 1.630e+02, 1.260e+02,\n",
       "         8.030e+02, 3.900e+02, 3.190e+02, 9.300e+01, 4.860e+02, 5.130e+02,\n",
       "         2.570e+02, 3.350e+02, 1.600e+02, 5.790e+02, 1.930e+02, 3.010e+02,\n",
       "         3.830e+02, 4.780e+02, 2.930e+02, 3.260e+02, 4.940e+02, 1.170e+02,\n",
       "         2.530e+02, 3.600e+02, 4.660e+02, 6.640e+02, 4.290e+02, 6.790e+02,\n",
       "         3.670e+02, 3.380e+02, 2.750e+02, 1.810e+02, 2.420e+02, 2.020e+02,\n",
       "         5.770e+02, 2.090e+02, 4.960e+02, 3.050e+02, 3.090e+02, 3.050e+02,\n",
       "         1.710e+02, 5.330e+02, 4.350e+02, 4.820e+02, 2.380e+02, 5.180e+02,\n",
       "         1.160e+02, 5.780e+02, 2.190e+02, 2.470e+02, 4.190e+02, 1.070e+03,\n",
       "         3.740e+02, 2.700e+02, 1.490e+02, 3.960e+02, 2.640e+02, 2.780e+02,\n",
       "         5.720e+02, 8.790e+02, 2.310e+02, 3.670e+02, 2.900e+02, 3.730e+02,\n",
       "         3.070e+02, 4.320e+02, 3.570e+02, 2.430e+02, 3.770e+02, 4.510e+02,\n",
       "         3.000e+02, 2.000e+02, 2.980e+02, 6.920e+02, 4.300e+02, 1.890e+02,\n",
       "         4.070e+02, 4.210e+02, 3.410e+02, 2.940e+02, 3.170e+02, 3.730e+02,\n",
       "         1.130e+02, 4.810e+02, 4.580e+02, 2.960e+02, 5.650e+02, 2.730e+02,\n",
       "         2.110e+02, 4.710e+02, 5.230e+02, 2.800e+02, 1.440e+02, 1.144e+03,\n",
       "         4.180e+02, 2.310e+02, 1.049e+03, 3.940e+02, 1.239e+03, 1.179e+03,\n",
       "         3.320e+02, 3.890e+02, 2.240e+02, 2.700e+02, 4.550e+02, 3.430e+02,\n",
       "         2.900e+02, 3.350e+02, 1.310e+02, 2.740e+02, 1.820e+02, 4.010e+02,\n",
       "         2.020e+02, 2.890e+02, 2.660e+02, 5.810e+02, 4.950e+02, 1.790e+02,\n",
       "         4.990e+02, 2.100e+02, 3.400e+02, 6.370e+02, 1.576e+03, 2.890e+02,\n",
       "         3.190e+02, 7.200e+01, 5.480e+02, 3.320e+02, 4.980e+02, 6.330e+02,\n",
       "         1.890e+02, 2.400e+02, 2.850e+02, 3.050e+02, 2.520e+02, 6.020e+02,\n",
       "         4.070e+02, 3.470e+02, 2.570e+02, 2.830e+02, 7.150e+02, 4.670e+02,\n",
       "         1.393e+03, 3.530e+02, 3.720e+02, 5.750e+02, 5.920e+02, 3.760e+02,\n",
       "         2.430e+02, 2.900e+02, 6.370e+02, 6.830e+02, 1.830e+02, 3.330e+02,\n",
       "         3.680e+02, 3.190e+02, 4.250e+02, 5.330e+02, 3.990e+02, 4.570e+02,\n",
       "         6.050e+02, 6.510e+02, 5.850e+02, 3.740e+02, 1.159e+03, 6.300e+02,\n",
       "         6.430e+02, 3.280e+02, 4.560e+02, 2.360e+02, 3.290e+02, 5.290e+02,\n",
       "         6.185e+03, 2.630e+02, 2.430e+02, 1.190e+02, 7.030e+02, 8.320e+02,\n",
       "         2.400e+02, 2.760e+02, 4.290e+02, 3.860e+02, 2.810e+02, 3.030e+02,\n",
       "         1.314e+03, 5.410e+02, 1.520e+03, 4.000e+02, 2.360e+02, 6.130e+02,\n",
       "         4.850e+02, 2.810e+02, 2.240e+02, 3.350e+02, 2.550e+02, 1.660e+02,\n",
       "         9.370e+02, 2.970e+02, 3.940e+02, 5.910e+02, 5.110e+02, 2.720e+02,\n",
       "         2.570e+02, 1.710e+02, 3.910e+02, 6.810e+02, 4.160e+02, 2.000e+02,\n",
       "         5.290e+02, 6.890e+02, 2.210e+02, 7.500e+02, 4.140e+02, 2.060e+02,\n",
       "         1.296e+03, 4.350e+02, 3.910e+02, 4.020e+02, 4.780e+02, 5.640e+02,\n",
       "         2.500e+02, 1.410e+02, 3.940e+02, 2.300e+02, 2.060e+02, 3.560e+02,\n",
       "         4.290e+02, 2.420e+02, 1.940e+02, 2.880e+02, 4.620e+02, 2.760e+02,\n",
       "         1.873e+03, 5.800e+02, 4.480e+02, 2.740e+02, 1.660e+02, 1.084e+03,\n",
       "         9.300e+01, 3.440e+02, 7.320e+02, 6.050e+02, 3.130e+02, 2.460e+02,\n",
       "         3.570e+02, 5.670e+02, 3.600e+02, 6.030e+02, 4.730e+02, 3.350e+02,\n",
       "         4.310e+02, 6.890e+02, 7.280e+02, 3.720e+02, 3.588e+03, 3.770e+02,\n",
       "         6.160e+02, 4.610e+02, 2.940e+02, 4.220e+02, 5.500e+02, 2.670e+02,\n",
       "         7.660e+02, 5.290e+02, 2.740e+02, 6.660e+02, 3.550e+02, 2.720e+02,\n",
       "         3.250e+02, 2.240e+02, 4.300e+02, 2.960e+02, 6.520e+02, 4.510e+02,\n",
       "         2.680e+02, 1.970e+02, 2.210e+02, 2.570e+02, 4.690e+02, 3.310e+02,\n",
       "         2.400e+02, 2.560e+02, 4.510e+02, 2.960e+02, 4.230e+02, 4.740e+02,\n",
       "         4.320e+02, 5.820e+02, 6.460e+02, 3.110e+02, 3.050e+02, 4.680e+02,\n",
       "         1.780e+02, 3.290e+02, 4.710e+02, 2.010e+02, 2.500e+02, 6.490e+02,\n",
       "         3.240e+02, 2.380e+02, 3.670e+02, 2.440e+02, 3.770e+02, 1.180e+02,\n",
       "         3.940e+02, 2.250e+02, 4.170e+02, 3.940e+02, 2.100e+02, 2.760e+02,\n",
       "         5.880e+02, 5.910e+02, 3.020e+02, 3.530e+02, 2.590e+02, 3.930e+02,\n",
       "         6.840e+02, 1.940e+02, 8.460e+02, 8.650e+02, 5.530e+02, 2.420e+02,\n",
       "         2.480e+02, 4.630e+02, 4.000e+02, 2.060e+02, 1.720e+02, 2.230e+02,\n",
       "         4.410e+02, 5.420e+02, 3.850e+02, 2.670e+02, 3.450e+02, 3.530e+02,\n",
       "         1.182e+03, 3.470e+02, 6.190e+02, 2.220e+02, 2.414e+03, 4.140e+02,\n",
       "         2.540e+02, 1.760e+02, 1.360e+02, 3.100e+02, 4.560e+02, 3.110e+02,\n",
       "         2.400e+02, 5.860e+02, 4.200e+02, 2.540e+02, 4.590e+02, 4.020e+02,\n",
       "         3.690e+02, 4.370e+02, 5.840e+02, 5.090e+02, 2.380e+02, 2.120e+02,\n",
       "         3.330e+02, 7.600e+02, 4.810e+02, 3.020e+02, 5.410e+02, 1.176e+03,\n",
       "         1.990e+02, 7.370e+02, 5.470e+02, 5.090e+02, 6.540e+02, 6.630e+02,\n",
       "         3.490e+02, 4.710e+02, 4.980e+02, 1.440e+02, 3.490e+02, 3.350e+02,\n",
       "         5.170e+02, 1.407e+03, 6.500e+02, 7.750e+02, 4.060e+02, 6.240e+02,\n",
       "         4.490e+02, 6.060e+02, 3.090e+02, 4.350e+02, 4.900e+02, 3.500e+02,\n",
       "         6.260e+02, 5.960e+02, 3.210e+02, 5.310e+02, 4.400e+02, 1.990e+02,\n",
       "         5.920e+02, 1.150e+02, 5.310e+02, 2.260e+02, 3.960e+02, 4.550e+02,\n",
       "         4.800e+02, 3.880e+02, 2.160e+02, 6.110e+02, 3.580e+02, 4.150e+02,\n",
       "         4.440e+02, 7.580e+02, 4.530e+02, 5.840e+02, 1.436e+03, 4.880e+02,\n",
       "         9.980e+02, 1.790e+02, 2.760e+02, 3.060e+02, 2.840e+02, 3.050e+02,\n",
       "         4.220e+02, 4.340e+02, 2.920e+02, 4.320e+02, 4.140e+02, 7.700e+02,\n",
       "         8.390e+02, 5.210e+02, 3.980e+02, 6.050e+02, 1.040e+02, 3.680e+02,\n",
       "         3.630e+02, 7.640e+02, 9.210e+02, 3.790e+02, 2.740e+02, 8.970e+02,\n",
       "         4.230e+02, 3.510e+02, 1.860e+02, 2.380e+02, 5.130e+02, 4.280e+02,\n",
       "         4.860e+02, 3.020e+02, 2.700e+02, 1.830e+02, 7.350e+02, 3.610e+02,\n",
       "         2.660e+02, 7.930e+02, 4.400e+02, 1.350e+03, 1.490e+02, 3.470e+03,\n",
       "         4.350e+02, 1.071e+03, 4.730e+02, 5.230e+02, 8.630e+02, 5.200e+02,\n",
       "         1.200e+02, 4.260e+02, 5.350e+02, 3.720e+02, 1.650e+02, 8.900e+01,\n",
       "         7.040e+02, 3.240e+02, 7.280e+02, 1.640e+02, 4.370e+02, 4.220e+02,\n",
       "         2.860e+02, 3.680e+02, 4.020e+02, 7.140e+02, 2.730e+02, 4.140e+02,\n",
       "         2.060e+02, 3.450e+02, 3.130e+02, 2.410e+02, 2.600e+02, 4.850e+02,\n",
       "         3.200e+02, 6.650e+02, 2.960e+02, 1.550e+02, 2.540e+02, 6.820e+02,\n",
       "         2.870e+02, 3.880e+02, 3.570e+02, 8.060e+02, 1.660e+02, 3.960e+02,\n",
       "         2.810e+02, 3.430e+02, 9.110e+02, 3.850e+02, 3.650e+02, 3.070e+02,\n",
       "         2.880e+02, 4.390e+02, 1.580e+02, 8.230e+02, 5.020e+02, 3.220e+02,\n",
       "         2.970e+02, 3.190e+02, 4.110e+02, 2.810e+02, 1.496e+03, 2.740e+02,\n",
       "         4.000e+02, 1.992e+03, 5.710e+02, 4.040e+02, 2.370e+02, 4.790e+02,\n",
       "         6.270e+02, 6.600e+02, 3.470e+02, 4.990e+02, 6.400e+02, 3.440e+02,\n",
       "         5.060e+02, 1.610e+02, 4.050e+02, 6.210e+02, 3.460e+02, 2.900e+02,\n",
       "         8.430e+02, 4.250e+02, 3.490e+02, 4.710e+02, 4.710e+02, 3.690e+02,\n",
       "         5.330e+02, 4.190e+02, 2.680e+02, 5.330e+02, 5.700e+02, 2.660e+02,\n",
       "         1.980e+02, 6.770e+02, 4.430e+02, 3.090e+02, 3.010e+02, 8.820e+02,\n",
       "         5.710e+02, 2.280e+02, 2.970e+02, 6.010e+02, 4.210e+02, 5.180e+02,\n",
       "         3.070e+02, 4.410e+02, 4.480e+02, 5.340e+02, 3.160e+02, 4.680e+02,\n",
       "         7.200e+02, 3.000e+02, 2.680e+02, 8.260e+02, 3.200e+02, 4.830e+02,\n",
       "         3.470e+02, 4.390e+02, 3.660e+02, 4.530e+02, 2.700e+02, 4.380e+02,\n",
       "         4.420e+02, 4.360e+02, 5.290e+02, 4.090e+02, 4.940e+02, 2.970e+02,\n",
       "         3.740e+02, 4.680e+02, 5.610e+02, 4.550e+02, 3.300e+02, 1.311e+03,\n",
       "         5.030e+02, 3.430e+02, 4.630e+02, 3.720e+02, 8.690e+02, 6.510e+02,\n",
       "         2.310e+02, 5.970e+02, 4.370e+02, 2.500e+02, 4.830e+02, 3.680e+02,\n",
       "         1.750e+02, 6.380e+02, 1.830e+02, 5.050e+02, 1.684e+03, 2.650e+02,\n",
       "         8.140e+02, 2.800e+02, 5.130e+02, 2.030e+02, 3.430e+02, 2.970e+02,\n",
       "         4.460e+02, 5.210e+02, 3.430e+02, 3.840e+02, 4.960e+02, 8.300e+02,\n",
       "         3.640e+02, 6.440e+02, 2.550e+02, 6.330e+02, 3.550e+02, 2.900e+02,\n",
       "         4.040e+02, 2.500e+02, 4.950e+02, 1.780e+02, 1.192e+03, 7.470e+02,\n",
       "         4.040e+02, 3.700e+02, 6.020e+02, 3.340e+02, 3.430e+02, 3.360e+02,\n",
       "         5.780e+02, 3.600e+02, 4.150e+02, 4.500e+02, 3.380e+02, 1.249e+03,\n",
       "         3.200e+02, 6.830e+02, 3.070e+02, 4.550e+02, 3.490e+02, 7.060e+02,\n",
       "         6.920e+02, 5.020e+02, 2.610e+02, 4.360e+02, 1.980e+02, 4.410e+02,\n",
       "         3.970e+02, 4.520e+02, 9.250e+02, 5.260e+02, 6.010e+02, 7.300e+02,\n",
       "         5.780e+02, 4.440e+02, 4.470e+02, 5.160e+02, 2.930e+02, 3.120e+02,\n",
       "         6.470e+02, 4.050e+02, 4.270e+02, 2.900e+02, 3.800e+02, 2.640e+02,\n",
       "         2.430e+02, 6.380e+02, 4.650e+02, 3.770e+02, 3.730e+02, 4.590e+02,\n",
       "         3.530e+02, 6.440e+02, 6.330e+02, 4.130e+02, 1.680e+02, 3.200e+02,\n",
       "         4.640e+02, 6.980e+02, 3.240e+02, 3.410e+02, 1.260e+02, 2.420e+02,\n",
       "         3.520e+02, 3.480e+02, 2.500e+02, 4.090e+02, 2.740e+02, 7.250e+02,\n",
       "         5.190e+02, 5.160e+02, 4.670e+02, 5.280e+02, 3.150e+02, 4.770e+02,\n",
       "         6.840e+02, 2.460e+02, 3.900e+02, 3.170e+02, 6.510e+02, 5.780e+02,\n",
       "         3.210e+02, 3.970e+02, 2.860e+02, 2.560e+02, 2.550e+02, 3.050e+02,\n",
       "         5.840e+02, 3.110e+02, 2.890e+02, 6.200e+02, 6.770e+02, 4.470e+02,\n",
       "         4.400e+02, 5.050e+02, 2.930e+02, 3.260e+02, 1.370e+03, 3.280e+02,\n",
       "         4.110e+02, 4.597e+03, 1.630e+02, 3.040e+02, 2.790e+02, 2.870e+02,\n",
       "         3.030e+02, 2.750e+02, 2.400e+02, 2.690e+02, 6.540e+02, 4.160e+02,\n",
       "         2.330e+02, 4.310e+02, 3.560e+02, 2.160e+02, 5.890e+02, 7.790e+02,\n",
       "         4.450e+02, 4.230e+02, 3.940e+02, 4.510e+02, 1.950e+02, 5.490e+02,\n",
       "         4.030e+02, 4.350e+02, 5.910e+02, 2.490e+02, 5.240e+02, 1.257e+03,\n",
       "         3.370e+02, 5.210e+02, 3.990e+02, 1.644e+03, 3.730e+02, 4.980e+02,\n",
       "         6.540e+02, 3.330e+02, 3.610e+02, 4.930e+02, 4.330e+02, 3.910e+02,\n",
       "         4.460e+02, 6.910e+02, 5.580e+02, 4.070e+02, 1.657e+03, 6.080e+02,\n",
       "         5.830e+02, 4.510e+02, 5.070e+02, 7.610e+02, 4.370e+02, 6.070e+02,\n",
       "         4.980e+02, 2.000e+02, 5.530e+02, 2.650e+02]),\n",
       "  array([  0.   ,   0.999,   1.998, ..., 997.002, 998.001, 999.   ]),\n",
       "  <a list of 1000 Patch objects>),\n",
       " None)"
      ]
     },
     "execution_count": 100,
     "metadata": {},
     "output_type": "execute_result"
    }
   ],
   "source": [
    "from matplotlib import pyplot as plt\n",
    "plt.hist(labels, bins=1000),plt.show()"
   ]
  },
  {
   "cell_type": "markdown",
   "metadata": {},
   "source": [
    "The labels with extremely high occurances should be investigated. Feature reduction should take the most dog and cat features that are most common to each target and most dissimiliar to other targets."
   ]
  },
  {
   "cell_type": "code",
   "execution_count": 245,
   "metadata": {},
   "outputs": [],
   "source": [
    "# Read in previously computed cluster data for dogs\n",
    "dog_centers = np.load('20190120-kmeans-samplecenters-dogs.npy')\n",
    "dog_labels = np.load('20190120-kmeans-samplelabels-dogs.npy')"
   ]
  },
  {
   "cell_type": "code",
   "execution_count": 251,
   "metadata": {},
   "outputs": [],
   "source": [
    "# Get top 500 most frequent dog labels & their centers\n",
    "ddf = pd.DataFrame(labels, columns=[\"desc_dogs\"])\n",
    "top_500_ix = ddf[\"desc_dogs\"].value_counts().nlargest(500).reset_index()['index']"
   ]
  },
  {
   "cell_type": "markdown",
   "metadata": {},
   "source": [
    "### Filter descriptors "
   ]
  },
  {
   "cell_type": "markdown",
   "metadata": {},
   "source": [
    "I opted to reduce the labels to the 500 most frequent labels. This is just a starting place; more work will need to continue here."
   ]
  },
  {
   "cell_type": "code",
   "execution_count": 253,
   "metadata": {},
   "outputs": [
    {
     "data": {
      "text/plain": [
       "0    620\n",
       "1    702\n",
       "2     40\n",
       "3    649\n",
       "4     52\n",
       "Name: index, dtype: int64"
      ]
     },
     "execution_count": 253,
     "metadata": {},
     "output_type": "execute_result"
    }
   ],
   "source": [
    "top_500_ix.head()"
   ]
  },
  {
   "cell_type": "code",
   "execution_count": 257,
   "metadata": {},
   "outputs": [],
   "source": [
    "desc_ix = np.where(np.in1d(dog_labels, top_500_ix))[0]"
   ]
  },
  {
   "cell_type": "code",
   "execution_count": 260,
   "metadata": {},
   "outputs": [
    {
     "data": {
      "text/plain": [
       "(216798, 128)"
      ]
     },
     "execution_count": 260,
     "metadata": {},
     "output_type": "execute_result"
    }
   ],
   "source": [
    "dog_desc[desc_ix].shape"
   ]
  },
  {
   "cell_type": "code",
   "execution_count": 261,
   "metadata": {},
   "outputs": [],
   "source": [
    "desc_filter = dog_desc[desc_ix]\n",
    "lab_filter = dog_labels[desc_ix]"
   ]
  },
  {
   "cell_type": "code",
   "execution_count": 262,
   "metadata": {},
   "outputs": [],
   "source": [
    "cen_fiter = dog_centers[top_500_ix]"
   ]
  },
  {
   "cell_type": "markdown",
   "metadata": {},
   "source": [
    "### Predict labels for other categories"
   ]
  },
  {
   "cell_type": "code",
   "execution_count": 266,
   "metadata": {},
   "outputs": [],
   "source": [
    "# Load precomputed cat descriptors\n",
    "cat_descriptors = np.load('20190120-sampledesc-cats.npy')"
   ]
  },
  {
   "cell_type": "code",
   "execution_count": 267,
   "metadata": {},
   "outputs": [],
   "source": [
    "def predict(desc, centers, labels):\n",
    "    pred_label = np.empty(0)\n",
    "    pred_dist = np.empty(0)\n",
    "    for d in desc:\n",
    "        min_distance = None\n",
    "        min_lab = None\n",
    "        for lab in labels:\n",
    "            current_distance = np.linalg.norm(d - centers[lab])\n",
    "            if min_distance is None:\n",
    "                min_distance = current_distance\n",
    "                min_label = current_label\n",
    "            if current_distance < min_distance:\n",
    "                min_distance = current_distance\n",
    "                min_label = current_label\n",
    "                \n",
    "        # Store all predicted labels in 1-d array\n",
    "        pred_label = np.append(pred_label, min_label)\n",
    "        pred_dist = np.append(pred_dist, min_dist)\n",
    "    \n",
    "    return pred_label, pred_dist"
   ]
  },
  {
   "cell_type": "code",
   "execution_count": 271,
   "metadata": {
    "scrolled": true
   },
   "outputs": [
    {
     "ename": "KeyboardInterrupt",
     "evalue": "",
     "output_type": "error",
     "traceback": [
      "\u001b[0;31m---------------------------------------------------------------------------\u001b[0m",
      "\u001b[0;31mKeyboardInterrupt\u001b[0m                         Traceback (most recent call last)",
      "\u001b[0;32m<ipython-input-271-e3a9b8d7dcf1>\u001b[0m in \u001b[0;36m<module>\u001b[0;34m\u001b[0m\n\u001b[0;32m----> 1\u001b[0;31m \u001b[0mcat_pred\u001b[0m\u001b[0;34m,\u001b[0m \u001b[0mpred_dist\u001b[0m \u001b[0;34m=\u001b[0m \u001b[0mpredict\u001b[0m\u001b[0;34m(\u001b[0m\u001b[0mcat_descriptors\u001b[0m\u001b[0;34m,\u001b[0m \u001b[0mdog_centers\u001b[0m\u001b[0;34m,\u001b[0m \u001b[0mtop_500_ix\u001b[0m\u001b[0;34m)\u001b[0m\u001b[0;34m\u001b[0m\u001b[0m\n\u001b[0m",
      "\u001b[0;32m<ipython-input-267-d457e808a731>\u001b[0m in \u001b[0;36mpredict\u001b[0;34m(desc, centers, labels)\u001b[0m\n\u001b[1;32m      5\u001b[0m         \u001b[0mmin_lab\u001b[0m \u001b[0;34m=\u001b[0m \u001b[0;32mNone\u001b[0m\u001b[0;34m\u001b[0m\u001b[0m\n\u001b[1;32m      6\u001b[0m         \u001b[0;32mfor\u001b[0m \u001b[0mlab\u001b[0m \u001b[0;32min\u001b[0m \u001b[0mlabels\u001b[0m\u001b[0;34m:\u001b[0m\u001b[0;34m\u001b[0m\u001b[0m\n\u001b[0;32m----> 7\u001b[0;31m             \u001b[0mcurrent_distance\u001b[0m \u001b[0;34m=\u001b[0m \u001b[0mnp\u001b[0m\u001b[0;34m.\u001b[0m\u001b[0mlinalg\u001b[0m\u001b[0;34m.\u001b[0m\u001b[0mnorm\u001b[0m\u001b[0;34m(\u001b[0m\u001b[0md\u001b[0m \u001b[0;34m-\u001b[0m \u001b[0mcenters\u001b[0m\u001b[0;34m[\u001b[0m\u001b[0mlab\u001b[0m\u001b[0;34m]\u001b[0m\u001b[0;34m)\u001b[0m\u001b[0;34m\u001b[0m\u001b[0m\n\u001b[0m\u001b[1;32m      8\u001b[0m             \u001b[0;32mif\u001b[0m \u001b[0mmin_distance\u001b[0m \u001b[0;32mis\u001b[0m \u001b[0;32mNone\u001b[0m\u001b[0;34m:\u001b[0m\u001b[0;34m\u001b[0m\u001b[0m\n\u001b[1;32m      9\u001b[0m                 \u001b[0mmin_distance\u001b[0m \u001b[0;34m=\u001b[0m \u001b[0mcurrent_distance\u001b[0m\u001b[0;34m\u001b[0m\u001b[0m\n",
      "\u001b[0;32m~/.virtualenvs/py3cv4/lib/python3.6/site-packages/numpy/linalg/linalg.py\u001b[0m in \u001b[0;36mnorm\u001b[0;34m(x, ord, axis, keepdims)\u001b[0m\n\u001b[1;32m   2358\u001b[0m             \u001b[0;32melse\u001b[0m\u001b[0;34m:\u001b[0m\u001b[0;34m\u001b[0m\u001b[0m\n\u001b[1;32m   2359\u001b[0m                 \u001b[0msqnorm\u001b[0m \u001b[0;34m=\u001b[0m \u001b[0mdot\u001b[0m\u001b[0;34m(\u001b[0m\u001b[0mx\u001b[0m\u001b[0;34m,\u001b[0m \u001b[0mx\u001b[0m\u001b[0;34m)\u001b[0m\u001b[0;34m\u001b[0m\u001b[0m\n\u001b[0;32m-> 2360\u001b[0;31m             \u001b[0mret\u001b[0m \u001b[0;34m=\u001b[0m \u001b[0msqrt\u001b[0m\u001b[0;34m(\u001b[0m\u001b[0msqnorm\u001b[0m\u001b[0;34m)\u001b[0m\u001b[0;34m\u001b[0m\u001b[0m\n\u001b[0m\u001b[1;32m   2361\u001b[0m             \u001b[0;32mif\u001b[0m \u001b[0mkeepdims\u001b[0m\u001b[0;34m:\u001b[0m\u001b[0;34m\u001b[0m\u001b[0m\n\u001b[1;32m   2362\u001b[0m                 \u001b[0mret\u001b[0m \u001b[0;34m=\u001b[0m \u001b[0mret\u001b[0m\u001b[0;34m.\u001b[0m\u001b[0mreshape\u001b[0m\u001b[0;34m(\u001b[0m\u001b[0mndim\u001b[0m\u001b[0;34m*\u001b[0m\u001b[0;34m[\u001b[0m\u001b[0;36m1\u001b[0m\u001b[0;34m]\u001b[0m\u001b[0;34m)\u001b[0m\u001b[0;34m\u001b[0m\u001b[0m\n",
      "\u001b[0;31mKeyboardInterrupt\u001b[0m: "
     ]
    }
   ],
   "source": [
    "cat_pred, pred_dist = predict(cat_descriptors, dog_centers, top_500_ix)"
   ]
  },
  {
   "cell_type": "markdown",
   "metadata": {},
   "source": [
    "### Build the Dataset\n",
    "For each image we will need to get the pre-comupted descriptors and use the cluster centers to determine best label for each label. The input to a function should be an image number to query the descriptors and the function will translate the image to a 1-d vector with counts for each label."
   ]
  },
  {
   "cell_type": "code",
   "execution_count": 243,
   "metadata": {},
   "outputs": [],
   "source": [
    "def add_row(cluster_label, image, desc, centers):\n",
    "    unique_labels = np.unique(cluster_label)\n",
    "    unique_labels = np.sort(unique_labels, axis=None)\n",
    "    unique_images = np.unique(image)\n",
    "    \n",
    "    for img in unique_images:\n",
    "        index = np.where(np.in1d(image, img))[0]\n",
    "        img_descriptors = desc[index]\n",
    "        \n",
    "        img_label = np.empty(0)  \n",
    "        #img_label_count = np.empty(0)\n",
    "        \n",
    "        for d in img_descriptors:\n",
    "            min_distance = None\n",
    "            min_lab = None\n",
    "            for lab in unique_labels:\n",
    "                current_distance = np.linalg.norm(d - dog_centers[lab])\n",
    "                if min_distance is None:\n",
    "                    min_distance = current_distance\n",
    "                    min_label = current_label\n",
    "                if current_distance < min_distance:\n",
    "                    min_distance = current_distance\n",
    "                    min_label = current_label\n",
    "            \n",
    "            # Store all predicted labels in 1-d array\n",
    "            img_label = np.append(img_label, min_label)\n",
    "        \n",
    "        # Group by\n",
    "        #img_label = pd.Series(img_label)\n",
    "        #img_label_counts = img_label.value_counts()\n",
    "        # Left join to labels to generate 'zero' columns\n",
    "        \n",
    "        # Transpose\n",
    "        # Insert to dataframe"
   ]
  },
  {
   "cell_type": "code",
   "execution_count": 244,
   "metadata": {},
   "outputs": [
    {
     "data": {
      "text/plain": [
       "436862"
      ]
     },
     "execution_count": 244,
     "metadata": {},
     "output_type": "execute_result"
    }
   ],
   "source": [
    "len(dog_labels)\n",
    "#add_row(dog_labels)"
   ]
  },
  {
   "cell_type": "code",
   "execution_count": 240,
   "metadata": {},
   "outputs": [],
   "source": [
    "a = np.ravel(labels)"
   ]
  },
  {
   "cell_type": "code",
   "execution_count": 241,
   "metadata": {},
   "outputs": [],
   "source": [
    "a = pd.Series(a)"
   ]
  },
  {
   "cell_type": "code",
   "execution_count": 242,
   "metadata": {},
   "outputs": [
    {
     "data": {
      "text/plain": [
       "620    4797\n",
       "702    3620\n",
       "40     2409\n",
       "649    2353\n",
       "52     2318\n",
       "304    2292\n",
       "584    2224\n",
       "61     2016\n",
       "83     1902\n",
       "266    1883\n",
       "212    1635\n",
       "427    1615\n",
       "371    1510\n",
       "845    1482\n",
       "837    1421\n",
       "763    1326\n",
       "286    1303\n",
       "81     1135\n",
       "637    1104\n",
       "484    1076\n",
       "744    1052\n",
       "395    1043\n",
       "724    1037\n",
       "532    1031\n",
       "194     992\n",
       "440     990\n",
       "678     990\n",
       "617     984\n",
       "331     967\n",
       "198     938\n",
       "       ... \n",
       "197      93\n",
       "211      93\n",
       "109      92\n",
       "66       90\n",
       "86       89\n",
       "216      84\n",
       "169      81\n",
       "43       81\n",
       "185      80\n",
       "607      79\n",
       "137      78\n",
       "27       75\n",
       "118      69\n",
       "334      68\n",
       "437      65\n",
       "135      65\n",
       "11       60\n",
       "193      60\n",
       "120      60\n",
       "78       46\n",
       "295      43\n",
       "441      28\n",
       "30       18\n",
       "10       14\n",
       "3        13\n",
       "399      10\n",
       "7         6\n",
       "8         5\n",
       "1         1\n",
       "103       1\n",
       "Length: 1000, dtype: int64"
      ]
     },
     "execution_count": 242,
     "metadata": {},
     "output_type": "execute_result"
    }
   ],
   "source": [
    "a.value_counts()"
   ]
  },
  {
   "cell_type": "code",
   "execution_count": null,
   "metadata": {},
   "outputs": [],
   "source": []
  },
  {
   "cell_type": "code",
   "execution_count": 232,
   "metadata": {},
   "outputs": [],
   "source": [
    "\n",
    "labs = None\n",
    "\n",
    "for img in np.unique(dog_img):\n",
    "    \n",
    "    index = np.where(np.in1d(dog_img, img))[0]\n",
    "    d = dog_desc[index]\n",
    "    num_desc = d.shape[0]\n",
    "    labs = np.empty(0)\n",
    "    \n",
    "    min_distance = None\n",
    "    min_lab = None\n",
    "    \n",
    "    for descriptor in d:\n",
    "        \n",
    "        for current_label in range(0,999):\n",
    "            current_distance = np.linalg.norm(descriptor - dog_centers[current_label])\n",
    "\n",
    "            if min_distance is None:\n",
    "                min_distance = current_distance\n",
    "                min_label = current_label\n",
    "            if current_distance < min_distance:\n",
    "                min_distance = current_distance\n",
    "                min_label = current_label\n",
    "        \n",
    "        labs = np.append(labs, min_label)\n",
    "        #transpose, fill with zeros for missing labels\n",
    "        # write to pandas dataframe row\n",
    "        \n",
    "    ## function ##\n",
    "    \n"
   ]
  },
  {
   "cell_type": "code",
   "execution_count": 234,
   "metadata": {},
   "outputs": [],
   "source": [
    "np.arange(1,)"
   ]
  },
  {
   "cell_type": "markdown",
   "metadata": {},
   "source": [
    "### Loop through new descriptors and assign labels"
   ]
  },
  {
   "cell_type": "code",
   "execution_count": 181,
   "metadata": {},
   "outputs": [],
   "source": [
    "predicted_labels = np.empty(0)\n",
    "predicted_distance = np.empty(0)\n",
    "\n",
    "for desc in desc_total[0:3]:\n",
    "    \n",
    "    min_distance = None\n",
    "    min_label = None\n",
    "    current_distance = None\n",
    "    current_label = None\n",
    "\n",
    "    for lab in range(0,999):\n",
    "        \n",
    "        current_distance = np.linalg.norm(cent - x)\n",
    "        dist(desc, centers[lab])\n",
    "        \n",
    "        if min_distance is None:\n",
    "            min_distance = current_distance\n",
    "            min_label = lab\n",
    "        if current_distance < min_distance:\n",
    "            min_distance = current_distance\n",
    "            min_label = lab\n",
    "            \n",
    "    predicted_labels = np.append(predicted_labels, min_label)\n",
    "    predicted_distance = np.append(predicted_distance, min_distance)"
   ]
  },
  {
   "cell_type": "code",
   "execution_count": 182,
   "metadata": {},
   "outputs": [
    {
     "data": {
      "text/plain": [
       "array([124.51062012, 200.84196472, 119.63799286])"
      ]
     },
     "execution_count": 182,
     "metadata": {},
     "output_type": "execute_result"
    }
   ],
   "source": [
    "predicted_distance"
   ]
  },
  {
   "cell_type": "markdown",
   "metadata": {},
   "source": [
    "# Remaining Tasks\n",
    "\n",
    "- Use %%timeit\n",
    "- Try with 5000 photos of each target, decrease as needed\n",
    "- Test on 500/each\n",
    "- Create SIFT features on entire set\n",
    "- Cluster on training set\n",
    "- Create dictionary\n",
    "- Transform to dictionary feature set\n",
    "- SVM on dictionary transform\n",
    "- Transform testing set to dictionary\n",
    "- Predict w/ trained SVM\n",
    "\n",
    "## Packages Needed:\n",
    "- **pandas** for using scikit\n",
    "- **scikit-learn** for kmeans & SVM\n",
    "\n",
    "## DAN2 Research:\n",
    "- How can we reduce the dictionary?\n",
    "- Should we pre-process images more than grey-scaling? (e.g., HOG, edge detectiony, feature detection)\n",
    "    - explore opencv4 for latest offerings"
   ]
  },
  {
   "cell_type": "markdown",
   "metadata": {},
   "source": [
    "### Addtional Info\n",
    "http://aishack.in/tutorials/sift-scale-invariant-feature-transform-introduction/"
   ]
  }
 ],
 "metadata": {
  "kernelspec": {
   "display_name": "Python 3",
   "language": "python",
   "name": "python3"
  },
  "language_info": {
   "codemirror_mode": {
    "name": "ipython",
    "version": 3
   },
   "file_extension": ".py",
   "mimetype": "text/x-python",
   "name": "python",
   "nbconvert_exporter": "python",
   "pygments_lexer": "ipython3",
   "version": "3.6.1"
  }
 },
 "nbformat": 4,
 "nbformat_minor": 2
}
